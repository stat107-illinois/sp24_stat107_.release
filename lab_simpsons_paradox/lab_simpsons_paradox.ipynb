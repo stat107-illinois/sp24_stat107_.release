{
 "cells": [
  {
   "attachments": {},
   "cell_type": "markdown",
   "execution_count": 0,
   "metadata": {},
   "outputs": [],
   "source": [
    "# Welcome to Lab: Simpson's Paradox 🔬\n",
    "\n",
    "Before this lab section, you learned about Simpson's Paradox and confounding variables in lecture.  This week, you will find Simpson's Paradox through analysis of a dataset in Python, and get some practice writing conditionals for pandas DataFrames! \n",
    "\n",
    "A few tips to remember:\n",
    "\n",
    "- **You are not alone on your journey in learning programming!**  You have your lab Teaching Assistant, your Course Aides, your lab group, and the professors (Prof. Wade and Prof. Karle), who are all here to help you out!\n",
    "- If you find yourself stuck for more than a few minutes, ask a neighbor or course staff for help!  When you are giving help to your neighbor, explain the **idea and approach** to the problem without sharing the answer itself so they can have the same **<i>ah-hah</i>** moment!\n",
    "- We are here to help you!  Don't feel embarrassed or shy to ask us for help!\n",
    "\n",
    "Let's get started!"
   ]
  },
  {
   "cell_type": "code",
   "execution_count": 0,
   "metadata": {},
   "outputs": [],
   "source": [
    "# Meet your CAs and TA if you haven't already!\n",
    "# ...first name is enough, we'll know who they are! :)\n",
    "ta_name = \"\"\n",
    "ca1_name = \"\"\n",
    "ca2_name = \"\"\n",
    "ca3_name = \"\"\n",
    "\n",
    "# Say hello to each other!\n",
    "# - Groups of 3 are ideal :)\n",
    "# - However, groups of 2 or 4 are fine too!\n",
    "#\n",
    "# Question of the Day (QOTD) to Ask Your Group: \"What is your favorite music artist (besides Taylor Swift)?\"\n",
    "partner1_name = \"\"\n",
    "partner1_netid = \"\"\n",
    "partner1_artist = \"\"\n",
    "\n",
    "partner2_name = \"\"\n",
    "partner2_netid = \"\"\n",
    "partner2_artist = \"\"\n",
    "\n",
    "partner3_name = \"\"\n",
    "partner3_netid = \"\"\n",
    "partner3_artist = \"\""
   ]
  },
  {
   "cell_type": "markdown",
   "execution_count": 0,
   "metadata": {},
   "outputs": [],
   "source": [
    "<hr style=\"color: #DD3403;\">"
   ]
  },
  {
   "attachments": {},
   "cell_type": "markdown",
   "execution_count": 0,
   "metadata": {},
   "outputs": [],
   "source": [
    "# Part 1: The GPA Dataset\n",
    "\n",
    "Many of you have likely come across one of the GPA visualizations found at https://waf.cs.illinois.edu/discovery/gpa/, either out of \n",
    "curiosity or the need to investigate a mysterious GenEd class you signed up for. \n",
    "\n",
    "Regardless, these visualizations are built on the **GPA Dataset** of UIUC students across all course subjects. Today, you're going to do some analysis and discover a case of Simpson's Paradox within data taken from UIUC courses!"
   ]
  },
  {
   "attachments": {},
   "cell_type": "markdown",
   "execution_count": 0,
   "metadata": {},
   "outputs": [],
   "source": [
    "## Load the GPA Dataset\n",
    "\n",
    "The most recent version of the \"GPA Dataset\" is available here:\n",
    "```\n",
    "https://waf.cs.illinois.edu/discovery/gpa.csv\n",
    "```\n",
    "\n",
    "Use Python to load this dataset into a DataFrame called `df`:"
   ]
  },
  {
   "cell_type": "code",
   "execution_count": 0,
   "metadata": {},
   "outputs": [],
   "source": [
    "..."
   ]
  },
  {
   "cell_type": "markdown",
   "execution_count": 0,
   "metadata": {},
   "outputs": [],
   "source": [
    "### 🔬 Test Case Checkpoint 🔬"
   ]
  },
  {
   "cell_type": "code",
   "execution_count": 0,
   "metadata": {},
   "outputs": [],
   "source": [
    "## == CHECKPOINT TEST CASES ==\n",
    "# - This read-only cell contains test cases for your previous cell.\n",
    "# - If this cell runs without any errors, you PASSED all test cases!\n",
    "# - If this cell results in any errors, check your previous cell, make changes, and RE-RUN your code and then this cell.\n",
    "assert(len(df) == 69069 ), \"This is not the GPA dataset you're looking for.\"\n",
    "\n",
    "## == SUCCESS MESSAGE ==\n",
    "# You will only see this message (with the emoji showing) if you passed all test cases:\n",
    "tada = \"\\N{PARTY POPPER}\"\n",
    "print(f\"{tada} All tests passed! {tada}\")"
   ]
  },
  {
   "attachments": {},
   "cell_type": "markdown",
   "execution_count": 0,
   "metadata": {},
   "outputs": [],
   "source": [
    "## Data Cleaning: An Additional Column\n",
    "\n",
    "The GPA dataset contains raw GPA data and is not the easiest to work with if we want to analyze intricacies such as the average GPA or passing rate.  Luckily, DataFrames are modifiable, so we can **add more columns** based on what questions we want to answer.\n",
    "\n",
    "The process of modifying a dataset via deletion (cleaning up empty/unwanted values) or addition (adding new columns) is often called **data cleaning**. This is an important concept in Data Science, because you won't always receive your data in the perfect format for your purposes.\n",
    "\n",
    "With the GPA dataset, we want to investigate one innocent question posed by a theoretical incoming student: \n",
    "- *Is it easier to get an A in STAT or CS courses at UIUC?*\n",
    "\n",
    "To do this, we'll need to first perform some modifications on our loaded DataFrame, `df`. Specifically, we will need to create:\n",
    "- An `A_Grades` column, containing the total number of students receiving an A+, A, or A- in every course"
   ]
  },
  {
   "attachments": {},
   "cell_type": "markdown",
   "execution_count": 0,
   "metadata": {},
   "outputs": [],
   "source": [
    "### Puzzle 1.1: Creating an `A_Grades` Column\n",
    "\n",
    "Create the new column `A_Grades` that stores the total number of \"A\"s given in every course.\n",
    "\n",
    "- We consider an \"A\" to be any type of A, in other words \"A+\", \"A\", or an \"A-\" are all included.\n",
    "- In our `df`, the number of students recieving a particular grade in a course is found in the `df['Grade']` column. For example, `df['A']` contains the number of students who recieved an A."
   ]
  },
  {
   "cell_type": "code",
   "execution_count": 0,
   "metadata": {},
   "outputs": [],
   "source": [
    "df['A_Grades'] = ..."
   ]
  },
  {
   "cell_type": "markdown",
   "execution_count": 0,
   "metadata": {},
   "outputs": [],
   "source": [
    "### 🔬 Test Case Checkpoint 🔬"
   ]
  },
  {
   "cell_type": "code",
   "execution_count": 0,
   "metadata": {},
   "outputs": [],
   "source": [
    "## == CHECKPOINT TEST CASES ==\n",
    "# - This read-only cell contains test cases for your previous cell.\n",
    "# - If this cell runs without any errors, you PASSED all test cases!\n",
    "# - If this cell results in any errors, check your previous cell, make changes, and RE-RUN your code and then this cell.\n",
    "assert('A_Grades' in df), \"Make sure you've named the A_Grades column properly and added it to the DataFrame.\"\n",
    "assert(df['A_Grades'].sum() == 2325768), \"Double check the values of your A_Grades column.\"\n",
    "\n",
    "## == SUCCESS MESSAGE ==\n",
    "# You will only see this message (with the emoji showing) if you passed all test cases:\n",
    "tada = \"\\N{PARTY POPPER}\"\n",
    "print(f\"{tada} All tests passed! {tada}\")"
   ]
  },
  {
   "attachments": {},
   "cell_type": "markdown",
   "execution_count": 0,
   "metadata": {},
   "outputs": [],
   "source": [
    "# Working with the GPA Dataset\n",
    "Now that we have that extra column set up, we can perform basic mathematical analysis on the GPA Dataset to get insight towards our question:\n",
    "- *Is it easier to get an A in STAT or CS courses at UIUC?*\n",
    "\n",
    "Should be simple, right? Let's just see which subject, STAT or CS, has a greater percentage of A grades."
   ]
  },
  {
   "attachments": {},
   "cell_type": "markdown",
   "execution_count": 0,
   "metadata": {},
   "outputs": [],
   "source": [
    "### Puzzle 1.2: Subject DataFrames\n",
    "\n",
    "Select only the rows of the GPA dataset `df` with a `Subject` of `STAT`. Assign these rows to a new DataFrame, `df_STAT`. \n",
    "- Make sure your result only contains STAT courses!"
   ]
  },
  {
   "cell_type": "code",
   "execution_count": 0,
   "metadata": {},
   "outputs": [],
   "source": [
    "df_STAT = ..."
   ]
  },
  {
   "cell_type": "markdown",
   "execution_count": 0,
   "metadata": {},
   "outputs": [],
   "source": [
    "Select only the rows of the GPA dataset `df` with a `Subject` of `CS`. Assign these rows to a new DataFrame, `df_CS`. \n",
    "- Make sure your result only contains CS courses!"
   ]
  },
  {
   "cell_type": "code",
   "execution_count": 0,
   "metadata": {},
   "outputs": [],
   "source": [
    "df_CS = ..."
   ]
  },
  {
   "cell_type": "markdown",
   "execution_count": 0,
   "metadata": {},
   "outputs": [],
   "source": [
    "### 🔬 Test Case Checkpoint 🔬"
   ]
  },
  {
   "cell_type": "code",
   "execution_count": 0,
   "metadata": {},
   "outputs": [],
   "source": [
    "## == CHECKPOINT TEST CASES ==\n",
    "# - This read-only cell contains test cases for your previous cell.\n",
    "# - If this cell runs without any error our output, you PASSED all test cases!\n",
    "# - If this cell results in any errors, check you previous cell, make changes, and RE-RUN your code and then this cell.\n",
    "assert( 'df_STAT' in vars() ), \"Make certain to name the STAT courses df_STAT.\"\n",
    "assert( 'df_CS' in vars() ), \"Make certain to name the CS courses df_CS.\"\n",
    "assert( len(df_STAT[df_STAT.Subject != \"STAT\"] ) == 0 ), \"It looks like you did not subset df_STAT to only STAT courses.\"\n",
    "assert( len(df_CS[df_CS.Subject != \"CS\"] ) == 0 ), \"It looks like you did not subset df_CS to only CS courses.\"\n",
    "\n",
    "## == SUCCESS MESSAGE ==\n",
    "# You will only see this message (with the emoji showing) if you passed all test cases:\n",
    "tada = \"\\N{PARTY POPPER}\"\n",
    "print(f\"{tada} All tests passed! {tada}\")"
   ]
  },
  {
   "attachments": {},
   "cell_type": "markdown",
   "execution_count": 0,
   "metadata": {},
   "outputs": [],
   "source": [
    "### Puzzle 1.3: Comparing Overall Percentages\n",
    "\n",
    "With our two new DataFrames of STAT and CS courses, use the following code cell to determine the **percentage** of A grades recieved in STAT and CS courses, storing them as variables `stat_a` and `cs_a` respectively. \n",
    "\n",
    "Print statements have been provided to show the values you calculate. \n",
    "\n",
    "As you work, remember:\n",
    "- To find the **% of As**, divide the total number of `A_Grades` by the total number of `Students` ($\\space \\frac{A \\space Grades}{Students} \\space$).\n",
    "- The `A_Grades` column you made earlier, and the `Students` column containing the total number of students in each course.\n",
    "- The syntax `sum(df['column_name'])` can be used to add up the values of all rows in a particular column of a DataFrame.\n",
    "- Your % should be a decimal between 0 and 1."
   ]
  },
  {
   "cell_type": "code",
   "execution_count": 0,
   "metadata": {},
   "outputs": [],
   "source": [
    "stat_a = ...\n",
    "print(f'Overall % of As in STAT is: {stat_a}')\n",
    "\n",
    "cs_a = ...\n",
    "print(f'Overall % of As in CS is: {cs_a}')"
   ]
  },
  {
   "cell_type": "markdown",
   "execution_count": 0,
   "metadata": {},
   "outputs": [],
   "source": [
    "### 🔬 Test Case Checkpoint 🔬"
   ]
  },
  {
   "cell_type": "code",
   "execution_count": 0,
   "metadata": {},
   "outputs": [],
   "source": [
    "## == CHECKPOINT TEST CASES ==\n",
    "# - This read-only cell contains test cases for your previous cell.\n",
    "# - If this cell runs without any errors, you PASSED all test cases!\n",
    "# - If this cell results in any errors, check your previous cell, make changes, and RE-RUN your code and then this cell.\n",
    "import math\n",
    "assert(math.isclose(stat_a, 0.609647329889628)), \"The overall percentage of A grades received in STAT courses does not appear to have been correctly calculated.\"\n",
    "assert(math.isclose(cs_a, 0.6119729348794934)), \"The overall percentage of A grades received in CS courses does not appear to have been correctly calculated.\"\n",
    "\n",
    "## == SUCCESS MESSAGE ==\n",
    "# You will only see this message (with the emoji showing) if you passed all test cases:\n",
    "tada = \"\\N{PARTY POPPER}\"\n",
    "print(f\"{tada} All tests passed! {tada}\")"
   ]
  },
  {
   "cell_type": "markdown",
   "execution_count": 0,
   "metadata": {},
   "outputs": [],
   "source": [
    "### Analysis: Good Comparison?\n",
    "**Q: What conclusion can you take from the overall percentages found above when asking the original question:**\n",
    "- *Is it significantly easier to get an A in STAT or CS courses at UIUC, or is so close it would be hard to make general conclusions?*"
   ]
  },
  {
   "cell_type": "markdown",
   "execution_count": 0,
   "metadata": {},
   "outputs": [],
   "source": [
    "*(✏️ Edit this cell to replace this text with your answer. ✏️)*"
   ]
  },
  {
   "cell_type": "markdown",
   "execution_count": 0,
   "metadata": {},
   "outputs": [],
   "source": [
    "**Q: Given what you've learned about experimental design, what are some reasons (specific to this dataset) you may not trust this conclusion? If you would trust it, explain why.**"
   ]
  },
  {
   "cell_type": "markdown",
   "execution_count": 0,
   "metadata": {},
   "outputs": [],
   "source": [
    "*(✏️ Edit this cell to replace this text with your answer. ✏️)*"
   ]
  },
  {
   "cell_type": "markdown",
   "execution_count": 0,
   "metadata": {},
   "outputs": [],
   "source": [
    "## An Extra Consideration\n",
    "\n",
    "If you look at the `Year` column of our GPA dataset, you might notice that we have some old data in our dataset - all the way back to **2010**! This means we aren't really answering our question from the perspective of a student now. \n",
    "\n",
    "If we want to know if it is easier to **currently** get an A in a STAT or CS course, we should control for the **date** of the data by looking at more **recent years** specifically."
   ]
  },
  {
   "attachments": {},
   "cell_type": "markdown",
   "execution_count": 0,
   "metadata": {},
   "outputs": [],
   "source": [
    "### Puzzle 1.4: More DataFrames\n",
    "\n",
    "Using the code cells below, define four new DataFrames by selecting from rows of our previously created `df_CS` and `df_STAT`. \n",
    "\n",
    "- `df_cs_recent`: all `CS` course data in *recent years* ($\\space \\geq 2021 \\space$)\n",
    "- `df_stat_recent`: all `STAT` course data in *recent years* ($\\space \\geq 2021 \\space$)\n",
    "- `df_cs_old`: all other, older `CS` course data ($\\space < 2021 \\space$)\n",
    "- `df_stat_old`: all other, older `STAT` course data ($\\space < 2021 \\space$)\n",
    "\n",
    "Define *recent years* as **any year after and including 2021**, and older years as any year before 2021. \n",
    "\n",
    "Feel free to use conditionals OR the `.isin()` syntax you learned in the last lab."
   ]
  },
  {
   "cell_type": "code",
   "execution_count": 0,
   "metadata": {},
   "outputs": [],
   "source": [
    "df_stat_recent = ..."
   ]
  },
  {
   "cell_type": "code",
   "execution_count": 0,
   "metadata": {},
   "outputs": [],
   "source": [
    "df_cs_recent = ..."
   ]
  },
  {
   "cell_type": "code",
   "execution_count": 0,
   "metadata": {},
   "outputs": [],
   "source": [
    "df_stat_old = ..."
   ]
  },
  {
   "cell_type": "code",
   "execution_count": 0,
   "metadata": {},
   "outputs": [],
   "source": [
    "df_cs_old = ..."
   ]
  },
  {
   "cell_type": "markdown",
   "execution_count": 0,
   "metadata": {},
   "outputs": [],
   "source": [
    "### 🔬 Test Case Checkpoint 🔬"
   ]
  },
  {
   "cell_type": "code",
   "execution_count": 0,
   "metadata": {},
   "outputs": [],
   "source": [
    "## == CHECKPOINT TEST CASES ==\n",
    "# - This read-only cell contains test cases for your previous cell.\n",
    "# - If this cell runs without any error our output, you PASSED all test cases!\n",
    "# - If this cell results in any errors, check you previous cell, make changes, and RE-RUN your code and then this cell.\n",
    "assert( 'df_stat_recent' in vars() ), \"Make certain to name the recent STAT courses df_stat_recent.\"\n",
    "assert( 'df_cs_recent' in vars() ), \"Make certain to name the recent CS courses df_cs_recent.\"\n",
    "assert( 'df_stat_old' in vars() ), \"Make certain to name the old STAT courses df_stat_old.\"\n",
    "assert( 'df_cs_old' in vars() ), \"Make certain to name the old CS courses df_cs_old.\"\n",
    "\n",
    "assert( len(df_stat_recent[df_stat_recent.Year < 2021] ) == 0 ), \"Make sure only years after and including 2021 are in the df_stat_recent DataFrame.\"\n",
    "assert( len(df_cs_recent[df_cs_recent.Year < 2021] ) == 0 ), \"Make sure only years after and including 2021 are in the df_cs_recent DataFrame.\"\n",
    "assert( len(df_stat_old[df_stat_old.Year >= 2021] ) == 0 ), \"Make sure only years before 2021 are in the df_stat_old DataFrame.\"\n",
    "assert( len(df_cs_old[df_cs_old.Year >= 2021] ) == 0 ), \"Make sure only years before 2021 are in the df_cs_old DataFrame.\"\n",
    "\n",
    "assert( len(df[ df.index.isin(df_stat_recent.index) & df.index.isin(df_stat_old.index) ]) == 0 ), \"Check for duplicate values in your df_stat_recent and df_stat_old DataFrames.\"\n",
    "assert( len(df[ df.index.isin(df_cs_recent.index) & df.index.isin(df_cs_old.index) ]) == 0 ), \"Check for duplicate values in your df_cs_recent and df_cs_old DataFrames.\"\n",
    "assert( len(df_cs_old) + len(df_cs_recent) == len(df_CS) ), \"You're excluding some rows from df_cs_old or df_cs_recent. Please double check your conditionals.\"\n",
    "assert( len(df_stat_old) + len(df_stat_recent) == len(df_STAT) ), \"You're excluding some rows from df_stat_old or df_stat_recent. Please double check your conditionals.\"\n",
    "\n",
    "## == SUCCESS MESSAGE ==\n",
    "# You will only see this message (with the emoji showing) if you passed all test cases:\n",
    "tada = \"\\N{PARTY POPPER}\"\n",
    "print(f\"{tada} All tests passed! {tada}\")"
   ]
  },
  {
   "attachments": {},
   "cell_type": "markdown",
   "execution_count": 0,
   "metadata": {},
   "outputs": [],
   "source": [
    "### Puzzle 1.5: New Analysis\n",
    "Now that we've got all the DataFrames setup with GPA data of the `CS` and `STAT` courses separated by recency (2022 or newer being 'recent'), we can do more in-depth analysis to investigate our question. \n",
    "\n",
    "In the following code cells, **calculate the percentages** described by the comment in the cell. Your answer should always be a **decimal between 0 and 1**. \n",
    "\n",
    "Just like Puzzle 1.3, remember: \n",
    "- To find the % of As, divide the total number of As by the total number of students. \n",
    "- The `A_Grades` column you made earlier, and the `Students` column containing the total number of students in each course.\n",
    "- The syntax `sum(df['column_name'])` can be used to add up the values of all rows in a particular column of a DataFrame."
   ]
  },
  {
   "cell_type": "code",
   "execution_count": 0,
   "metadata": {},
   "outputs": [],
   "source": [
    "# Percentage of As received in CS in recent years\n",
    "cs_recent_a = ...\n",
    "print(f'Percentage of As received in CS in recent years: {cs_recent_a}')"
   ]
  },
  {
   "cell_type": "code",
   "execution_count": 0,
   "metadata": {},
   "outputs": [],
   "source": [
    "# Percentage of As received in STAT in recent years\n",
    "stat_recent_a = ...\n",
    "print(f'Percentage of As received in STAT in recent years: {stat_recent_a}')"
   ]
  },
  {
   "cell_type": "code",
   "execution_count": 0,
   "metadata": {},
   "outputs": [],
   "source": [
    "# percentage of As received in CS in older years\n",
    "cs_old_a = ...\n",
    "print(f'Percentage of As received in CS in older years: {cs_old_a}')"
   ]
  },
  {
   "cell_type": "code",
   "execution_count": 0,
   "metadata": {},
   "outputs": [],
   "source": [
    "# percentage of As received in STAT in older years\n",
    "stat_old_a = ...\n",
    "print(f'Percentage of As received in STAT in older years: {stat_old_a}')"
   ]
  },
  {
   "cell_type": "markdown",
   "execution_count": 0,
   "metadata": {},
   "outputs": [],
   "source": [
    "### 🔬 Test Case Checkpoint 🔬"
   ]
  },
  {
   "cell_type": "code",
   "execution_count": 0,
   "metadata": {},
   "outputs": [],
   "source": [
    "## == CHECKPOINT TEST CASES ==\n",
    "# - This read-only cell contains test cases for your previous cell.\n",
    "# - If this cell runs without any errors, you PASSED all test cases!\n",
    "# - If this cell results in any errors, check your previous cell, make changes, and RE-RUN your code and then this cell.\n",
    "assert(math.isclose(cs_recent_a,  0.7130059975764269)), \"The overall percentage of A grades received in CS courses recently does not appear to have been correctly calculated.\"\n",
    "assert(math.isclose(stat_recent_a, 0.6505842595985506)), \"The overall percentage of A grades received in STAT courses recently does not appear to have been correctly calculated.\"\n",
    "\n",
    "assert(math.isclose(cs_old_a, 0.5714531786360225)), \"The overall percentage of A grades received in CS courses in older years does not appear to have been correctly calculated.\"\n",
    "assert(math.isclose(stat_old_a, 0.5975443876015648)), \"The overall percentage of A grades received in STAT courses in older years does not appear to have been correctly calculated.\"\n",
    "\n",
    "## == SUCCESS MESSAGE ==\n",
    "# You will only see this message (with the emoji showing) if you passed all test cases:\n",
    "tada = \"\\N{PARTY POPPER}\"\n",
    "print(f\"{tada} All tests passed! {tada}\")"
   ]
  },
  {
   "attachments": {},
   "cell_type": "markdown",
   "execution_count": 0,
   "metadata": {},
   "outputs": [],
   "source": [
    "### Observe the Results\n",
    "**Run the following cell** to format all of your answers as a DataFrame.\n",
    "\n",
    "Keep in mind that \"Older\" means data from courses **before 2021**, and \"Recent\" means courses held **during or after 2021**. "
   ]
  },
  {
   "cell_type": "code",
   "execution_count": 0,
   "metadata": {},
   "outputs": [],
   "source": [
    "pd.DataFrame([\n",
    "  {'Older % of A': cs_old_a, 'Recent % of A': cs_recent_a, 'Overall % of A': cs_a},\n",
    "  {'Older % of A': stat_old_a, 'Recent % of A': stat_recent_a, 'Overall % of A': stat_a}\n",
    "], index=['CS', 'STAT'])"
   ]
  },
  {
   "attachments": {},
   "cell_type": "markdown",
   "execution_count": 0,
   "metadata": {},
   "outputs": [],
   "source": [
    "Notice that when observing the \"Overall % of A\" grades received:\n",
    "- It appears that `STAT` and `CS` are **equally difficult** to get an `A_Grades` (61.197% vs. 60.965%).\n",
    "- However, if you look at the sub-group of the courses held in years of **2021 and later**, we see that `CS` actually has a higher `A_Grades` rate! \n",
    "\n",
    "This is **Simpson's Paradox**: a pattern within a population can appear, disappear, or reverse when you look at subpopulations.\n",
    "\n",
    "In more formal terms, Simpson's Paradox can cause you to observe a pattern reverse when you look at the overall group statistics versus statistics of groups post-stratification. In this case we are stratifying by time.\n"
   ]
  },
  {
   "cell_type": "markdown",
   "execution_count": 0,
   "metadata": {},
   "outputs": [],
   "source": [
    "### Analysis: Reflecting on New Observations "
   ]
  },
  {
   "cell_type": "markdown",
   "execution_count": 0,
   "metadata": {},
   "outputs": [],
   "source": [
    "Now think about how would you now respond differently to the incoming student's question:\n",
    "- *Is it easier to get an A in STAT or CS courses at UIUC?*\n",
    "\n",
    "**Q: Which comparison of percentages do you trust more and why? Are there any other potential confounding variables when answering this question that could be investigated further? Respond with at least three full sentences.**"
   ]
  },
  {
   "cell_type": "markdown",
   "execution_count": 0,
   "metadata": {},
   "outputs": [],
   "source": [
    "*(✏️ Edit this cell to replace this text with your answer. ✏️)*"
   ]
  },
  {
   "cell_type": "markdown",
   "execution_count": 0,
   "metadata": {},
   "outputs": [],
   "source": [
    "<hr style=\"color: #DD3403;\">"
   ]
  },
  {
   "attachments": {},
   "cell_type": "markdown",
   "execution_count": 0,
   "metadata": {},
   "outputs": [],
   "source": [
    "# Part 2: Revisiting the Hello Dataset\n",
    "\n",
    "Enough about GPA (for now). Two weeks ago, you created a series of questions that made up the **Hello Dataset** and completed the survey by answering all of the questions made by students in DISCOVERY. \n",
    "\n",
    "Now, we will load this dataset again and briefly answer a few questions with data about YOU! "
   ]
  },
  {
   "attachments": {},
   "cell_type": "markdown",
   "execution_count": 0,
   "metadata": {},
   "outputs": [],
   "source": [
    "## Load the Hello Dataset\n",
    "\n",
    "The \"Hello Dataset\" is available here:\n",
    "```\n",
    "https://waf.cs.illinois.edu/discovery/hello-sp24.csv\n",
    "```\n",
    "\n",
    "Use Python to load this dataset into a DataFrame called `df_hello`:"
   ]
  },
  {
   "cell_type": "code",
   "execution_count": 0,
   "metadata": {},
   "outputs": [],
   "source": [
    "df_hello = ...\n",
    "df_hello"
   ]
  },
  {
   "cell_type": "markdown",
   "execution_count": 0,
   "metadata": {},
   "outputs": [],
   "source": [
    "### 🔬 Test Case Checkpoint 🔬"
   ]
  },
  {
   "cell_type": "code",
   "execution_count": 0,
   "metadata": {},
   "outputs": [],
   "source": [
    "## == CHECKPOINT TEST CASES ==\n",
    "# - This read-only cell contains test cases for your previous cell.\n",
    "# - If this cell runs without any errors, you PASSED all test cases!\n",
    "# - If this cell results in any errors, check your previous cell, make changes, and RE-RUN your code and then this cell.\n",
    "assert(len(df_hello) >= 600 and len(df_hello) < 700), \"This is not the Hello Dataset you're looking for. Check the URL.\"\n",
    "\n",
    "## == SUCCESS MESSAGE ==\n",
    "# You will only see this message (with the emoji showing) if you passed all test cases:\n",
    "tada = \"\\N{PARTY POPPER}\"\n",
    "print(f\"{tada} All tests passed! {tada}\")"
   ]
  },
  {
   "attachments": {},
   "cell_type": "markdown",
   "execution_count": 0,
   "metadata": {},
   "outputs": [],
   "source": [
    "## Happiness vs. Battery Life\n",
    "\n",
    "There is a narrative that \"Gen Zs are only happy when they're on their phone\" -- let's explore the relationship between your happiness and your cell phone's battery life!\n",
    "\n",
    "With the Hello Dataset, there's two questions with numeric responses that can help us explore this:\n",
    "- From 1 to 10, how happy are you right now?\n",
    "- What is your phone battery percentage currently at?"
   ]
  },
  {
   "attachments": {},
   "cell_type": "markdown",
   "execution_count": 0,
   "metadata": {},
   "outputs": [],
   "source": [
    "### Puzzle 2.1: Observation Subsets\n",
    "\n",
    "In this situation, let's define three levels of happiness:\n",
    "- You're **very happy** if you answered \"how happy are you right now?\" with a score of 9 or higher,\n",
    "- You're **unhappy** if you answered \"how happy are you right now?\" with a score of less than 3,\n",
    "- Otherwise, you're just **happy**.\n",
    "\n",
    "From this, create three DataFrames that contain subsets of the Hello Dataset: \n",
    "- `df_very_happy`: including everyone who is \"very happy\" ($\\space \\geq 9 \\space$)\n",
    "- `df_happy`: including everyone who is \"happy\" ($\\space <9 $ and $\\geq 3 \\space$)\n",
    "- `df_unhappy`: including everyone who is \"unhappy\" ($\\space < 3 \\space$)\n",
    "\n",
    "The `happiness_question` question has been provided to you as a **string** for ease of DataFrame column access. "
   ]
  },
  {
   "cell_type": "code",
   "execution_count": 0,
   "metadata": {},
   "outputs": [],
   "source": [
    "happiness_question = 'From 1 to 10, how happy are you right now?'\n",
    "\n",
    "df_very_happy = ...\n",
    "df_very_happy"
   ]
  },
  {
   "cell_type": "code",
   "execution_count": 0,
   "metadata": {},
   "outputs": [],
   "source": [
    "df_happy = ...\n",
    "df_happy"
   ]
  },
  {
   "cell_type": "code",
   "execution_count": 0,
   "metadata": {},
   "outputs": [],
   "source": [
    "df_unhappy = ...\n",
    "df_unhappy"
   ]
  },
  {
   "cell_type": "markdown",
   "execution_count": 0,
   "metadata": {},
   "outputs": [],
   "source": [
    "### 🔬 Test Case Checkpoint 🔬"
   ]
  },
  {
   "cell_type": "code",
   "execution_count": 0,
   "metadata": {},
   "outputs": [],
   "source": [
    "## == CHECKPOINT TEST CASES ==\n",
    "# - This read-only cell contains test cases for your previous cell.\n",
    "# - If this cell runs without any errors, you PASSED all test cases!\n",
    "# - If this cell results in any errors, check your previous cell, make changes, and RE-RUN your code and then this cell.\n",
    "assert(len(df_very_happy) == 54 ), \"Double check your conditional used to create df_very_happy.\"\n",
    "assert(len(df_happy) == 519 ), \"Double check your conditional used to create df_happy.\"\n",
    "assert(len(df_unhappy) == 36 ), \"Double check your conditional used to create df_unhappy.\"\n",
    "\n",
    "## == SUCCESS MESSAGE ==\n",
    "# You will only see this message (with the emoji showing) if you passed all test cases:\n",
    "tada = \"\\N{PARTY POPPER}\"\n",
    "print(f\"{tada} All tests passed! {tada}\")"
   ]
  },
  {
   "attachments": {},
   "cell_type": "markdown",
   "execution_count": 0,
   "metadata": {},
   "outputs": [],
   "source": [
    "### Puzzle 2.2: Average Phone Battery Percentage by Group\n",
    "\n",
    "Now find the **average phone battery percentage** of each group (`df_very_happy`, `df_happy`, and `df_unhappy`):\n",
    "\n",
    "- The `df['column name'].mean()` function returns the mean of all values in the specified column of `df`.\n",
    "- The `phone_battery_question` question has been provided to you as a **string** for ease of DataFrame column access."
   ]
  },
  {
   "cell_type": "code",
   "execution_count": 0,
   "metadata": {},
   "outputs": [],
   "source": [
    "phone_battery_question = 'What is your phone battery percentage currently at?'\n",
    "\n",
    "very_happy_people_avg_phone_battery = ...\n",
    "very_happy_people_avg_phone_battery"
   ]
  },
  {
   "cell_type": "code",
   "execution_count": 0,
   "metadata": {},
   "outputs": [],
   "source": [
    "happy_people_avg_phone_battery = ...\n",
    "happy_people_avg_phone_battery"
   ]
  },
  {
   "cell_type": "code",
   "execution_count": 0,
   "metadata": {},
   "outputs": [],
   "source": [
    "unhappy_people_avg_phone_battery = ...\n",
    "unhappy_people_avg_phone_battery"
   ]
  },
  {
   "cell_type": "markdown",
   "execution_count": 0,
   "metadata": {},
   "outputs": [],
   "source": [
    "### 🔬 Test Case Checkpoint 🔬"
   ]
  },
  {
   "cell_type": "code",
   "execution_count": 0,
   "metadata": {},
   "outputs": [],
   "source": [
    "## == CHECKPOINT TEST CASES ==\n",
    "# - This read-only cell contains test cases for your previous cell.\n",
    "# - If this cell runs without any errors, you PASSED all test cases!\n",
    "# - If this cell results in any errors, check your previous cell, make changes, and RE-RUN your code and then this cell.\n",
    "assert(math.isclose(very_happy_people_avg_phone_battery,  56.96296296296296)), \"The average phone battery percentage for very happy people does not appear to have been correctly calculated.\"\n",
    "assert(math.isclose(happy_people_avg_phone_battery,  59.335907335907336)), \"The average phone battery percentage for happy people does not appear to have been correctly calculated.\"\n",
    "assert(math.isclose(unhappy_people_avg_phone_battery,  56.02777777777778)), \"The average phone battery percentage for unhappy people does not appear to have been correctly calculated.\"\n",
    "\n",
    "## == SUCCESS MESSAGE ==\n",
    "# You will only see this message (with the emoji showing) if you passed all test cases:\n",
    "tada = \"\\N{PARTY POPPER}\"\n",
    "print(f\"{tada} All tests passed! {tada}\")"
   ]
  },
  {
   "cell_type": "markdown",
   "execution_count": 0,
   "metadata": {},
   "outputs": [],
   "source": [
    "### Analysis: Happiness vs. Phone Battery"
   ]
  },
  {
   "attachments": {},
   "cell_type": "markdown",
   "execution_count": 0,
   "metadata": {},
   "outputs": [],
   "source": [
    "**Q: What is the relationship between happiness and phone battery?  Can you think of a possible *confounding variable* in the observed relationship (or lack thereof) between happiness and phone battery?**  Write at least three complete sentences that includes:\n",
    "- Your analysis of the relationship between the two variables,\n",
    "- Your third, possibly confounding, variable that might be impacting the results, **AND**\n",
    "- Your analysis on why this third variable could be a possible confounder.\n",
    "- Any additional analysis on other variables or possible confounders."
   ]
  },
  {
   "cell_type": "markdown",
   "execution_count": 0,
   "metadata": {},
   "outputs": [],
   "source": [
    "*(✏️ Edit this cell to replace this text with your answer. ✏️)*"
   ]
  },
  {
   "cell_type": "markdown",
   "execution_count": 0,
   "metadata": {},
   "outputs": [],
   "source": [
    "<hr style=\"color: #DD3403;\">"
   ]
  },
  {
   "cell_type": "markdown",
   "execution_count": 0,
   "metadata": {},
   "outputs": [],
   "source": [
    "# Submission\n",
    "\n",
    "You're almost done!  All you need to do is to commit your lab to GitHub:\n",
    "\n",
    "1.  ⚠️ **Make certain to save your work.** ⚠️ To do this, go to **File => Save All**\n",
    "\n",
    "2.  After you have saved, exit this notebook and follow the Canvas instructions to commit this lab to your Git repository!\n",
    "\n",
    "3. Your TA will grade your submission and provide you feedback after the lab is due. :)"
   ]
  }
 ],
 "metadata": {
  "kernelspec": {
   "display_name": "Python 3.10.6 64-bit",
   "language": "python",
   "name": "python3"
  },
  "language_info": {
   "codemirror_mode": {
    "name": "ipython",
    "version": 3
   },
   "file_extension": ".py",
   "mimetype": "text/x-python",
   "name": "python",
   "nbconvert_exporter": "python",
   "pygments_lexer": "ipython3",
   "version": "3.11.3"
  },
  "vscode": {
   "interpreter": {
    "hash": "f48b0ea9e8281b29b1f9b6045fc5406bb9891af892053a27454c097f6ae51d2c"
   }
  }
 },
 "nbformat": 4,
 "nbformat_minor": 2
}
