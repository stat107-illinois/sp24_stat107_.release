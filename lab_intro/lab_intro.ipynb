{
 "cells": [
  {
   "cell_type": "markdown",
   "metadata": {},
   "source": [
    "# Welcome to a Jupyter Notebook!\n",
    "\n",
    "You are in your very first Jupyter Notebook for Data Science DISCOVERY!  Notebooks allow us to combine text (like you're reading now) with Python code. Just like learning a new spoken language, you won't learn the language without practice -- labs are an important part of the course!\n",
    "\n",
    "**You are not alone on your journey in learning programming!**  You have your lab Teaching Assistant (\"TA\"), your Course Aides (\"CAs\"), your lab group, and the professors (Prof. Wade and Prof. Karle) who are all here to help you out!\n",
    "\n",
    "- If you find yourself stuck for more than a few minutes, ask a neighbor or course staff for help!  When you are giving help to your neighbor, explain the **idea and approach** to the problem without sharing the answer itself so they can have the same **<i>ah-hah</i>** moment!\n",
    "\n",
    "- We are here to help you!  Don't feel embarrassed or shy to ask us for help!\n",
    "\n",
    "Let's get started!\n"
   ]
  },
  {
   "cell_type": "markdown",
   "metadata": {},
   "source": [
    "<hr style=\"color: #DD3403;\">"
   ]
  },
  {
   "cell_type": "markdown",
   "metadata": {},
   "source": [
    "# Part 1: Introduction to a Python Notebook\n",
    "\n",
    "Every single computer is slightly different and everything has to be configured **exactly right** for Python to run.  The good news is that you only have to do your computer setup once and most of the time it just works the first time.\n",
    "\n",
    "In this part of the lab, you will learn about the notebook environment and run your first Python code.\n"
   ]
  },
  {
   "cell_type": "markdown",
   "metadata": {},
   "source": [
    "\n",
    "## Types of Cells\n",
    "\n",
    "Jupyter notebooks are organized into rectangular **cells**.  Every **cell** will either be one of either:\n",
    "\n",
    "1. A **Markdown cell**, which contains text instructions (like the cell you are reading now).  **Markdown cells** will have formatted text and will have a solid background (usually solid black or white, depending on your color settings).\n",
    "2. A **Python cell**, which contains Python code.  **Python cells** (which you will see shortly) will have a gray background and colored text."
   ]
  },
  {
   "cell_type": "markdown",
   "metadata": {},
   "source": [
    "## Editing Cells\n",
    "\n",
    "Every cell can be edited by **double clicking on the cell**.\n",
    "\n",
    "- Double click on this cell right now!\n",
    "- Edit the end of this line and add your name: ➡️ EDIT IN YOUR NAME HERE ⬅️\n",
    "\n",
    "Once you are finishing editing:\n",
    "\n",
    "- Press **CTRL + ENTER** to exit editing and \"run\" the cell.\n",
    "- Press **CTRL + ALT + ENTER** to \"run\" the cell without exiting.\n",
    "- Press **SHIFT + ENTER** to exit editing, \"run\" the cell, AND advance to the next cell.\n",
    "- (Or you can also press `▶` on the left side of the cell -- this does the same as **CTRL + ALT + ENTER**.)\n",
    "\n",
    "\"Running\" a Markdown cell will save it and make it part of your notebook.\n"
   ]
  },
  {
   "cell_type": "markdown",
   "metadata": {},
   "source": [
    "## Python Cells\n",
    "\n",
    "Python cells are cells that contain Python code -- the programming language we will use for Data Science Discovery.  When you \"run\" a Python cell, you will run your snippet of code!\n",
    "\n",
    "Python is a programming language that was designed to be easy and simple to use, and notebooks make it even easier to use.  The most basic operations that a computer can do are simple math.\n",
    "\n",
    "The next cell is your first Python cell, where we already asked the computer to compute `5 + 4`:"
   ]
  },
  {
   "cell_type": "code",
   "execution_count": null,
   "metadata": {},
   "outputs": [],
   "source": [
    "5 + 4"
   ]
  },
  {
   "cell_type": "markdown",
   "metadata": {},
   "source": [
    "### Verify Your Notebook Works\n",
    "\n",
    "If Python is completely set up correctly, you should see a green check mark `✓` **AND** the result `9`.\n",
    "\n",
    "- You may get a message saying: `Running cells with 'Python 3.11.3 64-bit' requires ipykernel package.` (or similar).  Click `Install` and try again.\n",
    "\n",
    "- If this keeps happening, or you get other error messages **READ THE TEXT BELOW THE CELL**.  You may have a command you need to run in the terminal.  *(To bring up the terminal, click \"Terminal -> New Terminal\" at the top of VS Code.)*\n",
    "\n",
    "- If you're confused, **ask us for help!**  It is the **most important thing that you get Python running**."
   ]
  },
  {
   "cell_type": "markdown",
   "metadata": {},
   "source": [
    "### Verify you are using Python v3 (not v2)\n",
    "\n",
    "You need Python 3.7 (or higher) for DISCOVERY.  This line of code only runs in Python 3.7 or higher and will also print out `9`.\n"
   ]
  },
  {
   "cell_type": "code",
   "execution_count": null,
   "metadata": {},
   "outputs": [],
   "source": [
    "print(f\"{5 + 4}\")"
   ]
  },
  {
   "cell_type": "markdown",
   "metadata": {},
   "source": [
    "If you have another green check mark `✓` **AND** the result `9`, you're completely ready to go! 🎉\n",
    "\n",
    "- If the earlier Python code works, but this cell does not, then you're using a Python version that is too old.  Make sure you're running with Python 3.7 or later.\n",
    "\n",
    "- You can check in the **top-right** corner which Python version you're currently using.  You can click on it to change to a different version you have installed.\n"
   ]
  },
  {
   "cell_type": "markdown",
   "metadata": {},
   "source": [
    "<hr style=\"color: #DD3403;\">"
   ]
  },
  {
   "attachments": {},
   "cell_type": "markdown",
   "metadata": {},
   "source": [
    "# Part 2: Programming in Python\n",
    "\n",
    "You now know your lab group!  Most labs will contain **some individual work** and **some group work**.  When you're working on the individual work, you **CAN and SHOULD** talk to your lab group to help each other out.\n",
    "\n",
    "A few tips when you get or give help:\n",
    "\n",
    "- Don't type the answer on their keyboard, let them type it!  We're here to learn Data Science together.\n",
    "- Check in on each other often -- see if each other are stuck.\n",
    "\n",
    "Remember, TAs and CAs are here for you as well!  In a few cells, you'll need to know your TA and CAs names so you will have to ask them a question today! :)"
   ]
  },
  {
   "attachments": {},
   "cell_type": "markdown",
   "metadata": {},
   "source": [
    "## Puzzle 2.1:\n",
    "\n",
    "Let's review that first Python code.  Run the following cell (click on it and do **SHIFT + ENTER** or press the `▶` button) to run the code:"
   ]
  },
  {
   "cell_type": "code",
   "execution_count": null,
   "metadata": {},
   "outputs": [],
   "source": [
    "5 + 4"
   ]
  },
  {
   "cell_type": "markdown",
   "metadata": {},
   "source": [
    "Take a close look at the Python cell after you run.  Notice above that there are two components to a single Python cell:\n",
    "\n",
    "- The **input** area, which shows the Python code you wrote (ex: `5 + 4` above)\n",
    "- The **output** area, which shows the output from the Python (ex: `9` above, the answer)\n",
    "\n",
    "Let's have you try it! :)"
   ]
  },
  {
   "attachments": {},
   "cell_type": "markdown",
   "metadata": {},
   "source": [
    "## Puzzle 2.2:\n",
    "\n",
    "In the next cell, use Python to compute the sum of `3` and `8`.\n",
    "\n",
    "- Remember that you can use **SHIFT + ENTER** to exit and run the cell."
   ]
  },
  {
   "cell_type": "code",
   "execution_count": null,
   "metadata": {},
   "outputs": [],
   "source": []
  },
  {
   "attachments": {},
   "cell_type": "markdown",
   "metadata": {},
   "source": [
    "## Puzzle 2.3:\n",
    "\n",
    "In the next cell, use Python to compute the quotient (result of division) of the numbers `10` and `4`.\n",
    "- Hint: In Python, the `/` symbol used for division."
   ]
  },
  {
   "cell_type": "code",
   "execution_count": null,
   "metadata": {},
   "outputs": [],
   "source": []
  },
  {
   "attachments": {},
   "cell_type": "markdown",
   "metadata": {},
   "source": [
    "Notice: Your result should be `2.5`, a non-whole number!  There are two different types of numbers: \n",
    "- **integers** (whole numbers)\n",
    "- **floating point numbers** (numbers with a decimal)\n",
    "\n",
    "We will explore these more later!"
   ]
  },
  {
   "cell_type": "markdown",
   "metadata": {},
   "source": [
    "### Additional Operations\n",
    "\n",
    "In addition to addition (`+`), subtraction (`-`), multiplication (`*`), and division (`/`), Python can also raise a number to a power (ex: $2^4$).  The syntax to do this in Python is to use `**`.\n",
    "\n",
    "For example, the Python code for $2^4$ is:"
   ]
  },
  {
   "cell_type": "code",
   "execution_count": null,
   "metadata": {},
   "outputs": [],
   "source": [
    "2 ** 4"
   ]
  },
  {
   "cell_type": "markdown",
   "metadata": {},
   "source": [
    "## Puzzle 3.4:\n",
    "\n",
    "Compute the value of: $(3 + 5) * 9^2$"
   ]
  },
  {
   "cell_type": "code",
   "execution_count": null,
   "metadata": {},
   "outputs": [],
   "source": []
  },
  {
   "cell_type": "markdown",
   "metadata": {},
   "source": [
    "## Puzzle 3.5:\n",
    "\n",
    "Using simple math, write an expression using at least 2 different operations (`+`, `-`, `/`, `*`, `**`) where the output is equal to `107`"
   ]
  },
  {
   "cell_type": "code",
   "execution_count": null,
   "metadata": {},
   "outputs": [],
   "source": []
  },
  {
   "cell_type": "markdown",
   "metadata": {},
   "source": [
    "<hr style=\"color: #DD3403;\">"
   ]
  },
  {
   "attachments": {},
   "cell_type": "markdown",
   "metadata": {},
   "source": [
    "# 3. Print Statements in Python\n",
    "\n",
    "In all of the previous puzzles, the text in the **output** was the result of your Python code.  In a notebook, the notebook will always **automatically print out the  <u>result of the last line</u> of Python code**.\n",
    "\n",
    "Because ONLY the **last line** is automatically printed, what do you expect to happen when the following code is run?\n",
    "\n",
    "*(Make your prediction and run the code.)*"
   ]
  },
  {
   "cell_type": "code",
   "execution_count": null,
   "metadata": {},
   "outputs": [],
   "source": [
    "10 + 10\n",
    "200 + 200\n",
    "3 + 3"
   ]
  },
  {
   "attachments": {},
   "cell_type": "markdown",
   "metadata": {},
   "source": [
    "## Using the `print` function\n",
    "\n",
    "If you want to print out things that are NOT the result of the last line, Python has a **function** called `print` that will output everything between `(` and `)`.  For example, the same example with `print`:"
   ]
  },
  {
   "cell_type": "code",
   "execution_count": null,
   "metadata": {},
   "outputs": [],
   "source": [
    "print( 10 + 10 )\n",
    "print( 200 + 200 )\n",
    "print( 3 + 3 )"
   ]
  },
  {
   "attachments": {},
   "cell_type": "markdown",
   "metadata": {},
   "source": [
    "## Using Strings\n",
    "\n",
    "In Python, we often want to print out more than just numbers.  If you want to print words out, Python **REQUIRES** that **strings** are in quotes.  You **MUST** use quotes to use a string; numbers do not use quotes only strings.  One of the most simple programs is a program that prints `\"Hello World\"` (notice the quotes)!\n",
    "\n",
    "The following `print` command welcomes you to DISCOVERY:"
   ]
  },
  {
   "cell_type": "code",
   "execution_count": null,
   "metadata": {},
   "outputs": [],
   "source": [
    "print(\"Welcome to DISCOVERY\")"
   ]
  },
  {
   "cell_type": "markdown",
   "metadata": {},
   "source": [
    "Notice that **the quotes do not appear in the output**.  Instead, Python uses the quotes to know that the contents inside of the quotes are a  **string**.\n",
    "\n",
    "If you forget to add the quotes around text that is a string, Python will provide an error message that informs you it does not understand how to run the code you typed:"
   ]
  },
  {
   "cell_type": "code",
   "execution_count": null,
   "metadata": {},
   "outputs": [],
   "source": [
    "print(Welcome to DISCOVERY)"
   ]
  },
  {
   "attachments": {},
   "cell_type": "markdown",
   "metadata": {},
   "source": [
    "**Errors are what makes programming difficult and EVERYONE makes errors programming.**  You will see Professors Karle and Wade get errors in class, and that's even after programming for years!\n",
    "\n",
    "Errors happen when Python does not understand the code you typed.  Python will do its best to give you useful information in the error message, but the messages are often generic or confusing.  However, the more you get used to understanding the error message, the easier it is to begin to understand what is wrong."
   ]
  },
  {
   "cell_type": "markdown",
   "metadata": {},
   "source": [
    "## Emojis Are Strings, Too!\n",
    "\n",
    "Anything and everything that is not a number goes into a quotes and we will refer to these as **strings**.  This even includes emojis:"
   ]
  },
  {
   "cell_type": "code",
   "execution_count": null,
   "metadata": {},
   "outputs": [],
   "source": [
    "print(\"🎉\")"
   ]
  },
  {
   "attachments": {},
   "cell_type": "markdown",
   "metadata": {},
   "source": [
    "## Puzzle 3.1:\n",
    "\n",
    "Using the `print` function, print the **result** of the following two things on separate lines:\n",
    "- $(4 * 3)^2$\n",
    "- $8 - 3$"
   ]
  },
  {
   "cell_type": "code",
   "execution_count": null,
   "metadata": {},
   "outputs": [],
   "source": []
  },
  {
   "cell_type": "markdown",
   "metadata": {},
   "source": [
    "<hr style=\"color: #DD3403;\">"
   ]
  },
  {
   "attachments": {},
   "cell_type": "markdown",
   "metadata": {},
   "source": [
    "# 4. Names in Python\n",
    "\n",
    "*This section has been adopted from Berkeley's Data8: Lab \\#1, who we have partnered with in building Data Science courses!*\n",
    "\n",
    "In natural language, we have terminology that lets us quickly reference very complicated concepts. We don't say, \"That's a large slow mammal with brown fur and three toes!\" Instead, we just say, \"**SLOTH!**\"\n",
    "\n",
    "Similarly, an effective strategy for writing code is to **define names for data as we compute it**, like a lawyer would define terms for complex ideas at the start of a legal document to simplify the rest of the writing.\n",
    "\n",
    "In Python, we do this with assignment statements. An assignment statement has a name on the left side of an `=` sign and an expression to be evaluated on the right."
   ]
  },
  {
   "cell_type": "code",
   "execution_count": null,
   "metadata": {},
   "outputs": [],
   "source": [
    "ten = (3 * 2) + 4"
   ]
  },
  {
   "cell_type": "markdown",
   "metadata": {},
   "source": [
    "When you run that cell, Python first evaluates the first line. It computes the value of the expression `(3 * 2) + 4`, which is the number 10. Then it gives that value the name `ten`. At that point, the code in the cell is done running.\n",
    "\n",
    "After you run that cell, the value 10 is bound to the name `ten`:"
   ]
  },
  {
   "cell_type": "code",
   "execution_count": null,
   "metadata": {},
   "outputs": [],
   "source": [
    "ten"
   ]
  },
  {
   "cell_type": "markdown",
   "metadata": {},
   "source": [
    "The statement `ten = (3 * 2) + 4` is not asserting that ten is already equal to `(3 * 2) + 4`, as we might expect by analogy with math notation. Rather, that line of code changes what `ten` means; it now refers to the value 10, whereas before it meant nothing at all."
   ]
  },
  {
   "attachments": {},
   "cell_type": "markdown",
   "metadata": {},
   "source": [
    "## Puzzle 4.1\n",
    "\n",
    "Try writing code that uses a name (like `eleven`) that hasn't been assigned to anything.\n",
    "* Run the Cell (You should see an **ERROR** -- this is expected)."
   ]
  },
  {
   "cell_type": "code",
   "execution_count": null,
   "metadata": {},
   "outputs": [],
   "source": []
  },
  {
   "attachments": {},
   "cell_type": "markdown",
   "metadata": {},
   "source": [
    "## Puzzle 4.2\n",
    "\n",
    "Now, define the value of the name that gave you an error:"
   ]
  },
  {
   "cell_type": "code",
   "execution_count": null,
   "metadata": {},
   "outputs": [],
   "source": []
  },
  {
   "attachments": {},
   "cell_type": "markdown",
   "metadata": {},
   "source": [
    "## Puzzle 4.3\n",
    "\n",
    "Finally, try using that name again:"
   ]
  },
  {
   "cell_type": "code",
   "execution_count": null,
   "metadata": {},
   "outputs": [],
   "source": []
  },
  {
   "cell_type": "markdown",
   "metadata": {},
   "source": [
    "## Common Patterns with Names:\n",
    "\n",
    "A common pattern in Jupyter notebooks is to assign a value to a name and then immediately evaluate the name in the last line in the cell so that the value is displayed as output:"
   ]
  },
  {
   "cell_type": "code",
   "execution_count": null,
   "metadata": {},
   "outputs": [],
   "source": [
    "close_to_pi = 355/113\n",
    "close_to_pi"
   ]
  },
  {
   "cell_type": "markdown",
   "metadata": {},
   "source": [
    "Another common pattern is that a series of lines in a single cell will build up a complex computation in stages, naming the intermediate results."
   ]
  },
  {
   "cell_type": "code",
   "execution_count": null,
   "metadata": {},
   "outputs": [],
   "source": [
    "paycheck = 840\n",
    "monthly_salary = 2 * paycheck\n",
    "number_of_months_in_a_year = 12\n",
    "yearly_salary = number_of_months_in_a_year * monthly_salary\n",
    "yearly_salary"
   ]
  },
  {
   "cell_type": "markdown",
   "metadata": {},
   "source": [
    "Names in Python can have letters (upper- and lower-case letters are both okay and count as different letters), underscores, and numbers.  There are a few rules:\n",
    "- The first character can't be a number (otherwise a name might look like a number).\n",
    "- Names can't contain spaces, since spaces are used to separate pieces of code from each other.\n",
    "\n",
    "Other than those rules, what you name something doesn't matter to Python.  For example, this cell does the same thing as the above cell to compute a yearly salary, except everything has a different name (and loses all context):"
   ]
  },
  {
   "cell_type": "code",
   "execution_count": null,
   "metadata": {},
   "outputs": [],
   "source": [
    "a = 840\n",
    "b = 2 * a\n",
    "c = 12\n",
    "d = c * b\n",
    "d"
   ]
  },
  {
   "cell_type": "markdown",
   "metadata": {},
   "source": [
    "Names are **extremely important** for making your code readable to yourself and others. The cell above is shorter, but it's totally useless without an explanation of what it does."
   ]
  },
  {
   "attachments": {},
   "cell_type": "markdown",
   "metadata": {},
   "source": [
    "## Puzzle 4.4:\n",
    "\n",
    "Assign the name `seconds_in_a_decade` to the number of seconds between midnight January 1, 2010 and midnight January 1, 2020.\n",
    "\n",
    "- You will want to think about how this is computed before you start writing code.  Pencil and paper works great!\n",
    "- Any line of code in Python that begins with an `#` is a comment and is ignored by Python.  We have added some comments to help you out here."
   ]
  },
  {
   "cell_type": "code",
   "execution_count": null,
   "metadata": {},
   "outputs": [],
   "source": [
    "# Change the next line so that it computes the number of\n",
    "# seconds in a decade and assigns that number the name\n",
    "# seconds_in_a_decade.\n",
    "#\n",
    "# (You may want to add other names to help you calculate\n",
    "# this value.)\n",
    "seconds_in_a_decade = ...\n",
    "\n",
    "# We've put this line in this cell so that it will print\n",
    "# the value you've given to seconds_in_a_decade when you\n",
    "# run it.  You don't need to change this.\n",
    "seconds_in_a_decade"
   ]
  },
  {
   "cell_type": "markdown",
   "metadata": {},
   "source": [
    "<hr style=\"color: #DD3403;\">"
   ]
  },
  {
   "cell_type": "markdown",
   "metadata": {},
   "source": [
    "## Submit Your Work!\n",
    "\n",
    "You're almost done -- congratulations!\n",
    "\n",
    "You need to do two more things:\n",
    "\n",
    "1.  ⚠️ **Make certain to save your work.** ⚠️ To do this, go to **File => Save All**\n",
    "\n",
    "2.  After you have saved, exit this notebook and follow the webpage instructions to commit this lab to your Git repository!\n",
    "\n",
    "3. Your TA will grade your submission and provide you feedback after the lab is due. :)"
   ]
  }
 ],
 "metadata": {
  "kernelspec": {
   "display_name": "Python 3.10.5 64-bit",
   "language": "python",
   "name": "python3"
  },
  "language_info": {
   "codemirror_mode": {
    "name": "ipython",
    "version": 3
   },
   "file_extension": ".py",
   "mimetype": "text/x-python",
   "name": "python",
   "nbconvert_exporter": "python",
   "pygments_lexer": "ipython3",
   "version": "3.10.6"
  },
  "orig_nbformat": 4,
  "vscode": {
   "interpreter": {
    "hash": "369f2c481f4da34e4445cda3fffd2e751bd1c4d706f27375911949ba6bb62e1c"
   }
  }
 },
 "nbformat": 4,
 "nbformat_minor": 2
}
