{
 "cells": [
  {
   "attachments": {},
   "cell_type": "markdown",
   "metadata": {},
   "source": [
    "# Shrink Images for Project Mosaic\n",
    "\n",
    "If you use have many large images, this notebook contains the code to shrink your images to allow the mosaic to run quicker!\n",
    "\n",
    "- Run both of the below cells to shrink all your images.\n",
    "- Make sure your file folder is correct in the variables below:"
   ]
  },
  {
   "cell_type": "code",
   "execution_count": 1,
   "metadata": {},
   "outputs": [],
   "source": [
    "# What folder contains your tile images?\n",
    "tileImageFolder = \"tiles\"\n",
    "\n",
    "# What is the size of your final, smaller tile images?\n",
    "# - Your image will be resized to `tileImageDimension` x `tileImageDimension`\n",
    "tileImageDimension = 32\n",
    "\n",
    "# What is the new folder for your smaller tile images?\n",
    "smallTileImageFolder = f\"{tileImageFolder}-small\""
   ]
  },
  {
   "cell_type": "code",
   "execution_count": 2,
   "metadata": {},
   "outputs": [
    {
     "name": "stdout",
     "output_type": "stream",
     "text": [
      "Shrinking tiles\\mosaic-web.jpg...\n",
      "\n",
      "🎉 SHRINK COMPLETE!\n",
      "- All image files in \"tiles\" are now 32px x 32px and saved in \"tiles-small\".\n",
      "- Use \"tiles-small\" as your tile image folder to run the mosaic creation much faster!\n"
     ]
    }
   ],
   "source": [
    "import DISCOVERY\n",
    "from PIL import Image\n",
    "import os\n",
    "\n",
    "os.makedirs(smallTileImageFolder, exist_ok=True)\n",
    "\n",
    "for fileName in os.listdir(tileImageFolder):\n",
    "  fullPath = os.path.join(tileImageFolder, fileName)\n",
    "  if os.path.isfile(fullPath) and DISCOVERY.isImageFile(fullPath):\n",
    "    print(f\"Shrinking {fullPath}...\")\n",
    "    image = Image.open(fullPath)\n",
    "    width, height = image.size\n",
    "    dimension = min(width, height)\n",
    "    image = image.crop((0, 0, dimension, dimension))\n",
    "    image = image.resize((tileImageDimension, tileImageDimension), resample=Image.Resampling.LANCZOS)\n",
    "    image.save(os.path.join(smallTileImageFolder, fileName))\n",
    "\n",
    "tada = \"\\N{PARTY POPPER}\"\n",
    "print()\n",
    "print(f\"{tada} SHRINK COMPLETE!\")\n",
    "print(f\"- All image files in \\\"{tileImageFolder}\\\" are now {tileImageDimension}px x {tileImageDimension}px and saved in \\\"{smallTileImageFolder}\\\".\")\n",
    "print(f\"- Use \\\"{smallTileImageFolder}\\\" as your tile image folder to run the mosaic creation much faster!\")\n"
   ]
  }
 ],
 "metadata": {
  "kernelspec": {
   "display_name": "Python 3.10.5 64-bit",
   "language": "python",
   "name": "python3"
  },
  "language_info": {
   "codemirror_mode": {
    "name": "ipython",
    "version": 3
   },
   "file_extension": ".py",
   "mimetype": "text/x-python",
   "name": "python",
   "nbconvert_exporter": "python",
   "pygments_lexer": "ipython3",
   "version": "3.10.5"
  },
  "orig_nbformat": 4,
  "vscode": {
   "interpreter": {
    "hash": "369f2c481f4da34e4445cda3fffd2e751bd1c4d706f27375911949ba6bb62e1c"
   }
  }
 },
 "nbformat": 4,
 "nbformat_minor": 2
}
