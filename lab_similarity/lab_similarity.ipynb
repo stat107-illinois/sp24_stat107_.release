{
 "cells": [
  {
   "attachments": {},
   "cell_type": "markdown",
   "execution_count": 0,
   "metadata": {},
   "outputs": [],
   "source": [
    "# Welcome to Lab: Similarity 🧍🧍‍♂️🧍‍♀️\n",
    "\n",
    "Many of you already know your tablemates in this class. However, have you ever wondered if there is someone **even more similar** to you than the people you already know?\n",
    "\n",
    "In this lab, we'll once again explore the dataset from the **Hello Survey** you've completed, utilizing some new Python skills to calculate your similarity to your peers!\n",
    "\n",
    "A few tips to remember:\n",
    "\n",
    "- **You are not alone on your journey in learning programming!**  You have your lab Teaching Assistant, your Course Aides, your lab group, and the professors (Prof. Wade and Prof. Karle), who are all here to help you out!\n",
    "- If you find yourself stuck for more than a few minutes, ask a neighbor or course staff for help!  When you are giving help to your neighbor, explain the **idea and approach** to the problem without sharing the answer itself so they can have the same **<i>ah-hah</i>** moment!\n",
    "- We are here to help you!  Don't feel embarrassed or shy to ask us for help!\n",
    "\n",
    "Let's get started!"
   ]
  },
  {
   "cell_type": "code",
   "execution_count": 0,
   "metadata": {},
   "outputs": [],
   "source": [
    "# Meet your CAs and TA if you haven't already!\n",
    "# ...first name is enough, we'll know who they are! :)\n",
    "ta_name = \"\"\n",
    "ca1_name = \"\"\n",
    "ca2_name = \"\"\n",
    "ca3_name = \"\"\n",
    "\n",
    "\n",
    "# Say hello to each other!\n",
    "# - Groups of 3 are ideal :)\n",
    "# - However, groups of 2 or 4 are fine too!\n",
    "\n",
    "# QOTD to ask your group: What's your favorite (or least favorite) building on campus? \n",
    "partner1_name = \"\"\n",
    "partner1_netid = \"\"\n",
    "partner1_favbuilding = \"\"\n",
    "\n",
    "partner2_name = \"\"\n",
    "partner2_netid = \"\"\n",
    "partner2_favbuilding = \"\"\n",
    "\n",
    "partner3_name = \"\"\n",
    "partner3_netid = \"\"\n",
    "partner3_favbuilding = \"\""
   ]
  },
  {
   "cell_type": "markdown",
   "execution_count": 0,
   "metadata": {},
   "outputs": [],
   "source": [
    "<hr style=\"color: #DD3403;\">"
   ]
  },
  {
   "cell_type": "markdown",
   "execution_count": 0,
   "metadata": {},
   "outputs": [],
   "source": [
    "# Part 1: Hello, Again"
   ]
  },
  {
   "attachments": {},
   "cell_type": "markdown",
   "execution_count": 0,
   "metadata": {},
   "outputs": [],
   "source": [
    "## Load the Hello Dataset\n",
    "To find those most similar to you in this course, we're going to need the good old Hello Dataset.\n",
    "\n",
    "\n",
    "The \"Hello Dataset\" is available here:\n",
    "```\n",
    "https://waf.cs.illinois.edu/discovery/hello-sp24.csv\n",
    "```\n",
    "\n",
    "Use Python to load this dataset into a DataFrame `df`:"
   ]
  },
  {
   "cell_type": "code",
   "execution_count": 0,
   "metadata": {},
   "outputs": [],
   "source": [
    "..."
   ]
  },
  {
   "cell_type": "markdown",
   "execution_count": 0,
   "metadata": {},
   "outputs": [],
   "source": [
    "### 🔬 Test Case Checkpoint 🔬"
   ]
  },
  {
   "cell_type": "code",
   "execution_count": 0,
   "metadata": {},
   "outputs": [],
   "source": [
    "## == CHECKPOINT TEST CASES ==\n",
    "# - This read-only cell contains test cases for your previous cell.\n",
    "# - If this cell runs without any errors, you PASSED all test cases!\n",
    "# - If this cell results in any errors, check your previous cell, make changes, and RE-RUN your code and then this cell.\n",
    "assert(\"df\" in vars()), \"This is not the Hello Dataset you're looking for. Check the URL.\"\n",
    "assert(\"Dairy or non-dairy?\" in df), \"This is not the Hello Dataset you're looking for. Check the URL.\"\n",
    "assert(len(df) >= 611), \"This is not the Hello Dataset you're looking for. Check the URL.\"\n",
    "\n",
    "## == SUCCESS MESSAGE ==\n",
    "# You will only see this message (with the emoji showing) if you passed all test cases:\n",
    "tada = \"\\N{PARTY POPPER}\"\n",
    "print(f\"{tada} All tests passed! {tada}\")"
   ]
  },
  {
   "attachments": {},
   "cell_type": "markdown",
   "execution_count": 0,
   "metadata": {},
   "outputs": [],
   "source": [
    "## Finding Yourself\n",
    "Before finding people you are **similar to**, you have to find **yourself** - literally!\n",
    "\n",
    "### Puzzle 1.1: Your Row\n",
    "In the following cell, write the Python code to create a **new** DataFrame with only yourself, named `df_me`:\n",
    "\n",
    "*Note: if you cannot find yourself in the Hello Dataset, try adding a space after your name within the string. If you did not fill out the Hello Survey, pick one of your TAs, CAs, or Professor Karle or Wade! Their names are in the survey in the format of \"TA Alex\" or \"Prof. Karle\".*"
   ]
  },
  {
   "cell_type": "code",
   "execution_count": 0,
   "metadata": {},
   "outputs": [],
   "source": [
    "df_me = ...\n",
    "df_me"
   ]
  },
  {
   "cell_type": "markdown",
   "execution_count": 0,
   "metadata": {},
   "outputs": [],
   "source": [
    "### 🔬 Test Case Checkpoint 🔬"
   ]
  },
  {
   "cell_type": "code",
   "execution_count": 0,
   "metadata": {},
   "outputs": [],
   "source": [
    "## == PUZZLE 1.1 TEST CASES ==\n",
    "# - This read-only cell contains test cases for your previous cell.\n",
    "# - If this cell runs without any errors, you PASSED all test cases!\n",
    "# - If this cell results in any errors, check your previous cell, make changes, and RE-RUN your code and then this cell.\n",
    "assert(\"df_me\" in vars()), \"Make sure you named the DataFrame with just you `df_me`.\"\n",
    "assert(\"Dairy or non-dairy?\" in df_me), \"Your `df_me` should have the same columns as our `df`.\"\n",
    "assert(len(df_me.columns.to_list()) == 133), \"Your `df_me` should have the same number of columns as our original `df`.\"\n",
    "assert(len(df_me) == 1), \"Your `df_me` should only have one row: yourself.\"\n",
    "\n",
    "## == SUCCESS MESSAGE ==\n",
    "# You will only see this message (with the emoji showing) if you passed all test cases:\n",
    "tada = \"\\N{PARTY POPPER}\"\n",
    "print(f\"{tada} All tests passed! {tada}\")"
   ]
  },
  {
   "cell_type": "markdown",
   "execution_count": 0,
   "metadata": {},
   "outputs": [],
   "source": [
    "## Dataframe vs. Series\n",
    "\n",
    "Before we continue, a brief lesson on some of the datatypes you'll encounter in this class. \n",
    "\n",
    "In `pandas`, there are three data structures we will be using, two of which you have already seen:\n",
    "\n",
    "- A **DataFrame** is similar to an Excel sheet. It contains zero or more rows and zero or more columns. It can contain up to an unlimited number of rows and columns and is the basic data structure we've worked with from the start of this course\n",
    "\n",
    "- A **GroupBy** is a grouping of rows within a DataFrame. This \"three dimensional data\" requires us to use `agg` to reduce it back down to a DataFrame - which you've been doing in homeworks and labs thus far!\n",
    "\n",
    "- A **Series** is a single row with zero or more values (columns). You can think of a DataFrame as a collection of **Series** objects. When we deal with a single row, we will usually want to deal with a **Series** instead of a **one row DataFrame**\n",
    "\n",
    "In this lab, we will learn how to convert from a **one row DataFrame** to a **Series**, but here's a quick rundown on how to convert from types:"
   ]
  },
  {
   "attachments": {},
   "cell_type": "markdown",
   "execution_count": 0,
   "metadata": {},
   "outputs": [],
   "source": [
    "### Converting Types\n",
    "\n",
    "The `pandas` library makes it easy to convert between a **Series**, **DataFrame**, and **GroupBy**.\n",
    "\n",
    "- From a **Series** (`row`) to a **DataFrame**:\n",
    "    - `row.to_frame()`\n",
    "- From a **DataFrame** (`df`) to a **GroupBy**:\n",
    "    - `df.groupby('columnName')` -- (You know this already!)\n",
    "- From a **GroupBy** (`group`) to a **DataFrame**:\n",
    "    - `group.agg( function )` -- (You know this already!)\n",
    "- From a **DataFrame** (`df`) to a **Series**:\n",
    "    - `df.iloc[0]`, if the DataFrame has one row\n",
    "\n",
    "See this guide, https://discovery.cs.illinois.edu/guides/DataFrame-Fundamentals/dataframe-loc-vs-iloc/, for more information about `iloc[]`. "
   ]
  },
  {
   "attachments": {},
   "cell_type": "markdown",
   "execution_count": 0,
   "metadata": {},
   "outputs": [],
   "source": [
    "### Puzzle 1.2: Transform your row into a Series\n",
    "Using the correct function from above, **transform** the `df_me` row containing only you from a **one-row DataFrame** into a **Series**. \n",
    "\n",
    "Make sure the Series is named `my_row` (this will match up with code we provide you with later):"
   ]
  },
  {
   "cell_type": "code",
   "execution_count": 0,
   "metadata": {},
   "outputs": [],
   "source": [
    "my_row = ..."
   ]
  },
  {
   "cell_type": "markdown",
   "execution_count": 0,
   "metadata": {},
   "outputs": [],
   "source": [
    "### 🔬 Test Case Checkpoint 🔬"
   ]
  },
  {
   "cell_type": "code",
   "execution_count": 0,
   "metadata": {},
   "outputs": [],
   "source": [
    "## == PUZZLE 1.2 TEST CASES ==\n",
    "# - This read-only cell contains test cases for your previous cell.\n",
    "# - If this cell runs without any errors, you PASSED all test cases!\n",
    "# - If this cell results in any errors, check your previous cell, make changes, and RE-RUN your code and then this cell.\n",
    "assert('my_row' in vars()), \"Your series should be named `my_row`.\"\n",
    "assert(type(my_row) == pd.core.series.Series), \"Make sure you've correctly converted your one-row DataFrame into a Series...\"\n",
    "\n",
    "## == SUCCESS MESSAGE ==\n",
    "# You will only see this message (with the emoji showing) if you passed all test cases:\n",
    "tada = \"\\N{PARTY POPPER}\"\n",
    "print(f\"{tada} All tests passed! {tada}\")"
   ]
  },
  {
   "cell_type": "markdown",
   "execution_count": 0,
   "metadata": {},
   "outputs": [],
   "source": [
    "## Choosing Your Columns"
   ]
  },
  {
   "attachments": {},
   "cell_type": "markdown",
   "execution_count": 0,
   "metadata": {},
   "outputs": [],
   "source": [
    "Before we begin, we have to think about our approach to finding your DISCOVERY twin.\n",
    "\n",
    "You may have noticed our Hello Dataset has **more than 100 questions**. Instead of finding the most similar person to you using **every question**, we'll pick out a few questions to analyze. \n",
    "\n",
    "**But first, we need to revisit the questions.**\n",
    "\n",
    "Recall the function `df.columns.tolist()`. To recap, this command will list **all of the columns** (in this case, our questions) in a DataFrame.\n",
    "\n",
    " Use `df.columns.tolist()` in the cell below. \n",
    "\n",
    "You will likely see the message: Output exceeds the __size limit__. Open the full output data __in a text editor__.\n",
    "\n",
    "If you do, click the **in a text editor** link to open the whole list in a new tab of VSCode.\n"
   ]
  },
  {
   "cell_type": "code",
   "execution_count": 0,
   "metadata": {},
   "outputs": [],
   "source": [
    "..."
   ]
  },
  {
   "attachments": {},
   "cell_type": "markdown",
   "execution_count": 0,
   "metadata": {},
   "outputs": [],
   "source": [
    "### Puzzle 1.3: Choosing Your Columns\n",
    "From the above list of **columns** (questions), choose **at least 12 questions** to work with moving forward. Please use **only questions with binary answers** for this part of the analysis :)\n",
    "\n",
    "These will be the questions used to **calculate your similarity** to other people in DISCOVERY! Feel free to include more if you'd like. \n",
    "\n",
    "Store them as a **list** of **strings** named `questions` in the Python cell below:"
   ]
  },
  {
   "cell_type": "code",
   "execution_count": 0,
   "metadata": {},
   "outputs": [],
   "source": [
    "questions = [\n",
    "  ...,\n",
    "  ...,\n",
    "  ...,\n",
    "]"
   ]
  },
  {
   "cell_type": "markdown",
   "execution_count": 0,
   "metadata": {},
   "outputs": [],
   "source": [
    "### 🔬 Test Case Checkpoint 🔬"
   ]
  },
  {
   "cell_type": "code",
   "execution_count": 0,
   "metadata": {},
   "outputs": [],
   "source": [
    "## == PUZZLE 1.3 TEST CASES ==\n",
    "# - This read-only cell contains test cases for your previous cell.\n",
    "# - If this cell runs without any errors, you PASSED all test cases!\n",
    "# - If this cell results in any errors, check your previous cell, make changes, and RE-RUN your code and then this cell.\n",
    "assert('questions' in vars()), \"Please name your list of questions `questions`.\"\n",
    "assert(type(questions) == list and type(questions[0]) == str), \"Make sure your `questions` variable is a list of strings.\"\n",
    "assert(len(questions) >= 12), \"Do you have at least 12 questions in your columns list?\"\n",
    "for q in questions:\n",
    "   assert(q in df), \"Double check that you've copied each question correctly. The question texts should match up EXACTLY with the output from `df.columns.to_list()`.\"\n",
    "for q in questions:\n",
    "   assert(len(df[q].value_counts()) == 2), \"Make sure that you've only included questions with binary answers in your columns list.\"\n",
    "\n",
    "## == SUCCESS MESSAGE ==\n",
    "# You will only see this message (with the emoji showing) if you passed all test cases:\n",
    "tada = \"\\N{PARTY POPPER}\"\n",
    "print(f\"{tada} All tests passed! {tada}\")"
   ]
  },
  {
   "attachments": {},
   "cell_type": "markdown",
   "execution_count": 0,
   "metadata": {},
   "outputs": [],
   "source": [
    "### Analysis: Question Choice\n",
    "\n",
    "**Q1: Explain why you chose the questions you did to evaluate similarity. Is there a question or questions you think that say more about someone than others?**"
   ]
  },
  {
   "cell_type": "markdown",
   "execution_count": 0,
   "metadata": {},
   "outputs": [],
   "source": [
    "*(✏️ Edit this cell to replace this text with your answer. ✏️)*"
   ]
  },
  {
   "cell_type": "markdown",
   "execution_count": 0,
   "metadata": {},
   "outputs": [],
   "source": [
    "<hr style=\"color: #DD3403;\">"
   ]
  },
  {
   "cell_type": "markdown",
   "execution_count": 0,
   "metadata": {},
   "outputs": [],
   "source": [
    "# Part 2: The Similarity Function"
   ]
  },
  {
   "attachments": {},
   "cell_type": "markdown",
   "execution_count": 0,
   "metadata": {},
   "outputs": [],
   "source": [
    "Now that we have chosen the **questions** we'd like to evaluate, it's time to create a **function** to calculate a similarity value for each person, or each row in `df`.\n",
    "\n",
    "In lecture, remember learning that a Python **function** takes an **input** in and **returns** a **value**. \n",
    "\n",
    "For this specific function, we will take a **row** and calculate a **similarity score** for that row.\n",
    "\n",
    "But first, **print your list of questions** using the Python cell below for reference:"
   ]
  },
  {
   "cell_type": "code",
   "execution_count": 0,
   "metadata": {},
   "outputs": [],
   "source": [
    "questions"
   ]
  },
  {
   "cell_type": "markdown",
   "execution_count": 0,
   "metadata": {},
   "outputs": [],
   "source": [
    "### Puzzle 2.1: The Similarity Function\n",
    "We have provided the basic outline for the `similarity` function below. Follow the **commented details** and **complete the function** using all of your questions below:"
   ]
  },
  {
   "cell_type": "code",
   "execution_count": 0,
   "metadata": {},
   "outputs": [],
   "source": [
    "def similarity(row):\n",
    "    # This function will keep track of a `score` of how similar two rows are with each other.\n",
    "    # The score begins at zero and we will add to it every time a row matches.\n",
    "    score = 0 \n",
    "\n",
    "    # This if statement below checks to see if the `row` shares your choice between Coffee and Tea\n",
    "    # - If the values are the same (==), we add one to the score.\n",
    "    if row[\"Coffee or Tea?\"] == my_row[\"Coffee or Tea?\"]:\n",
    "        score = score + 1\n",
    "\n",
    "    # Repeat this syntax many times for EACH question (column) that you have chosen in your list\n",
    "    # IMPORTANT: Make sure to keep your lines all at this same level of tabbing out from the start.    \n",
    "    # ALSO: Delete or the replace the \"Coffee or Tea?\" question,\n",
    "    #       (unless you've decided that is one of your evaluating questions). \n",
    "\n",
    "    # Finally, return the `score`.\n",
    "    # ...this line (the return statement) should always be the LAST line. \n",
    "    return score"
   ]
  },
  {
   "cell_type": "markdown",
   "execution_count": 0,
   "metadata": {},
   "outputs": [],
   "source": [
    "### 🔬 Test Case Checkpoint 🔬"
   ]
  },
  {
   "cell_type": "code",
   "execution_count": 0,
   "metadata": {},
   "outputs": [],
   "source": [
    "## == PUZZLE 2.1 TEST CASES ==\n",
    "# - This read-only cell contains test cases for your previous cell.\n",
    "# - If this cell runs without any errors, you PASSED all test cases!\n",
    "# - If this cell results in any errors, check your previous cell, make changes, and RE-RUN your code and then this cell.\n",
    "assert(similarity(my_row) == len(questions) or similarity(my_row) == my_row[questions].count()), \"Ensure you've added all the questions from your list and ONLY questions from your list correctly to your similarity function.\"\n",
    "\n",
    "## == SUCCESS MESSAGE ==\n",
    "# You will only see this message (with the emoji showing) if you passed all test cases:\n",
    "tada = \"\\N{PARTY POPPER}\"\n",
    "print(f\"{tada} All tests passed! {tada}\")"
   ]
  },
  {
   "attachments": {},
   "cell_type": "markdown",
   "execution_count": 0,
   "metadata": {},
   "outputs": [],
   "source": [
    "### Puzzle 2.2: Applying the Similarity Function\n",
    "Now that you've properly defined the similarity function, we need to **apply** it to the rest of the Hello Dataset DataFrame so we can produce a **similarity score** for each person who took the survey!\n",
    "\n",
    "Luckily, `pandas` provides a useful function for our use case: `df.apply()`.\n",
    "\n",
    "Quick lesson: `df.apply(some_function)` applies a pre-defined function named `some_function` along an axis of your DataFrame. \n",
    "\n",
    "Because we want to run our `similarity` function on all **rows**, when you call `df.apply()`, ensure you use **`axis=1`**. This would look something like:\n",
    "```\n",
    "df[\"score\"] = df.apply(some_function, axis=1)\n",
    "```\n",
    "\n",
    "Using the above explanation as reference, **add a column** named `Similarity Score` to your original DataFrame that contains the value after running your similarity function you defined earlier across all rows:"
   ]
  },
  {
   "cell_type": "code",
   "execution_count": 0,
   "metadata": {},
   "outputs": [],
   "source": [
    "df[\"Similarity Score\"] = ..."
   ]
  },
  {
   "cell_type": "markdown",
   "execution_count": 0,
   "metadata": {},
   "outputs": [],
   "source": [
    "### 🔬 Test Case Checkpoint 🔬"
   ]
  },
  {
   "cell_type": "code",
   "execution_count": 0,
   "metadata": {},
   "outputs": [],
   "source": [
    "## == PUZZLE 2.2 TEST CASES ==\n",
    "# - This read-only cell contains test cases for your previous cell.\n",
    "# - If this cell runs without any errors, you PASSED all test cases!\n",
    "# - If this cell results in any errors, check your previous cell, make changes, and RE-RUN your code and then this cell.\n",
    "assert('Similarity Score' in df), \"Make sure you've named and added the Similarity Score column to your original df.\"\n",
    "assert(df['Similarity Score'].dtype == 'int64'), \"Double check that you've called the similarity function correctly in your df.apply().\"\n",
    "\n",
    "## == SUCCESS MESSAGE ==\n",
    "# You will only see this message (with the emoji showing) if you passed all test cases:\n",
    "tada = \"\\N{PARTY POPPER}\"\n",
    "print(f\"{tada} All tests passed! {tada}\")"
   ]
  },
  {
   "cell_type": "markdown",
   "execution_count": 0,
   "metadata": {},
   "outputs": [],
   "source": [
    "<hr style=\"color: #DD3403;\">"
   ]
  },
  {
   "cell_type": "markdown",
   "execution_count": 0,
   "metadata": {},
   "outputs": [],
   "source": [
    "# Part 3: Finding your Twin(s)"
   ]
  },
  {
   "attachments": {},
   "cell_type": "markdown",
   "execution_count": 0,
   "metadata": {},
   "outputs": [],
   "source": [
    "Your last column `Similarity Score` in `df` is now a metric (a measurement) of how **similar** you are to everyone else in the class, based on the **questions you've chosen**!\n",
    "\n",
    "Finally, we can do analytical Data Science! "
   ]
  },
  {
   "attachments": {},
   "cell_type": "markdown",
   "execution_count": 0,
   "metadata": {},
   "outputs": [],
   "source": [
    "### Puzzle 3.1: Your Twin in 107\n",
    "\n",
    "Using the Python cell below, find the **person most similar to you in the entire course** (having the largest `Similarity Score`).\n",
    "\n",
    "Note that **you should be most similar to yourself** (you will always match yourself)! This is not the right answer. Find the person with the highest score ***aside from yourself***."
   ]
  },
  {
   "cell_type": "code",
   "execution_count": 0,
   "metadata": {},
   "outputs": [],
   "source": [
    "..."
   ]
  },
  {
   "attachments": {},
   "cell_type": "markdown",
   "execution_count": 0,
   "metadata": {},
   "outputs": [],
   "source": [
    "### Analysis: True Twin?\n",
    "\n",
    "**Q2: If you picked twelve or more other questions to evaluate similarity, do you think you'd find a different twin in the course overall?**"
   ]
  },
  {
   "cell_type": "markdown",
   "execution_count": 0,
   "metadata": {},
   "outputs": [],
   "source": [
    "*(✏️ Edit this cell to replace this text with your answer. ✏️)*"
   ]
  },
  {
   "attachments": {},
   "cell_type": "markdown",
   "execution_count": 0,
   "metadata": {},
   "outputs": [],
   "source": [
    "### Puzzle 3.2: Your Lab Twin\n",
    "\n",
    "Now, chances are your twin isn't in your lab section. Because we conveniently have our row, `Similarity Score` applied to the **entire** set of responses to the survey, we can create smaller DataFrames to answer more questions. \n",
    "\n",
    "We want to find the person most similar to you in **your lab section**, otherwise known as your lab twin! We can create a new DataFrame to answer this question. \n",
    "\n",
    "However, some of your CAs and TAs, who are part of your lab section, are in more than one lab section! Those who have multiple sections have `Y##, Y##...` in their Sections column. How can we create a DataFrame that includes the CAs and TAs who are in more than one lab section? Python saves the day again.\n",
    "\n",
    "#### **The `contains` Function**\n",
    "In Python, the `contains` function can be used to check if a specific **substring** is present in a **string**. \n",
    "\n",
    "This will come in handy for us, because we can see if `Y##` is in the **names** of any rows in our DataFrame.\n",
    "\n",
    "Using the `contains` function, create a **new DataFrame** with everyone in your lab section: `df_section`. \n",
    "\n",
    "Part of the statement has been completed for you to show you how to use `contains`. Complete it.\n",
    "\n",
    "*Note that we have to cast our `Name` column of `df` to a **string** by using `.str`.\n",
    "\n",
    "\n"
   ]
  },
  {
   "cell_type": "code",
   "execution_count": 0,
   "metadata": {},
   "outputs": [],
   "source": [
    "df_section = df[(df['Section'].str.contains('Y##'))]\n",
    "df_section"
   ]
  },
  {
   "cell_type": "markdown",
   "execution_count": 0,
   "metadata": {},
   "outputs": [],
   "source": [
    "### Puzzle 3.3: Your Lab Twin!\n",
    "\n",
    "Similarly to Puzzle 3.1, find your lab section twin (the person in your lab section who has the **highest Similarity Score** to you)."
   ]
  },
  {
   "cell_type": "code",
   "execution_count": 0,
   "metadata": {},
   "outputs": [],
   "source": [
    "..."
   ]
  },
  {
   "attachments": {},
   "cell_type": "markdown",
   "execution_count": 0,
   "metadata": {},
   "outputs": [],
   "source": [
    "#### **➡️ Right now, once you have that person, find them in lab!**<br>➡️ *(If they're not here, look for the next similar person.)*\n",
    "\n",
    "Help them get up to this point in the lab and let them find their DISCOVERY twin!  *(Are you twins of each other?)*\n",
    "\n",
    "Note that there may be ties in `Similarity Score` due to the usage of only parts of the dataset. If you're curious, you can go back and **add more questions** to your `questions` list and `similarity(row)` function, rerunning the code to have more evaluative similarity scores. "
   ]
  },
  {
   "attachments": {},
   "cell_type": "markdown",
   "execution_count": 0,
   "metadata": {},
   "outputs": [],
   "source": [
    "### Puzzle 3.4: The Course Staff\n",
    "A lot of wonderful course staff work together to bring you all the content for Data Science Discovery. \n",
    "\n",
    "The course staff of 107 consists of the **Professors, TAs, and CAs**. As you saw in the previous parts, they've all completed the Hello Survey too! \n",
    "\n",
    "Their response under the `name` column is standardized and follows these formats:\n",
    "- `Prof. [Name]`,\n",
    "- `TA [Name]`, or\n",
    "- `CA [Name]`\n",
    "\n",
    "The `contains` function will come in handy for us once again, because we can see if `\"CA \"`, `\"TA \"`, or `\"Prof. \"` is in the **names** of any rows in our DataFrame.\n",
    "\n",
    "Using the `contains` function, create a **new DataFrame** with just the course staff: `df_staff`. \n",
    "\n",
    "Part of the statement has been completed for you to show you how to use `contains`. Complete it.\n",
    "\n",
    "*Note that we have to cast our `Name` column of `df` to a **string** by using `.str`."
   ]
  },
  {
   "cell_type": "code",
   "execution_count": 0,
   "metadata": {},
   "outputs": [],
   "source": [
    "df_staff = df[(df['Name'].str.contains('CA ')) + ...] \n",
    "df_staff\n",
    "# IMPORTANT: Make sure you include a whitespace in \"CA \"\" and \"TA \"\" so that people with those\n",
    "# #          letters in their name aren't included.  Whitespace matters! :)"
   ]
  },
  {
   "cell_type": "markdown",
   "execution_count": 0,
   "metadata": {},
   "outputs": [],
   "source": [
    "### 🔬 Test Case Checkpoint 🔬"
   ]
  },
  {
   "cell_type": "code",
   "execution_count": 0,
   "metadata": {},
   "outputs": [],
   "source": [
    "## == PUZZLE 3.3 TEST CASES ==\n",
    "# - This read-only cell contains test cases for your previous cell.\n",
    "# - If this cell runs without any errors, you PASSED all test cases!\n",
    "# - If this cell results in any errors, check your previous cell, make changes, and RE-RUN your code and then this cell.\n",
    "assert('df_staff' in vars()), \"Your DataFrame of course staff should be named 'df_staff'.\"\n",
    "assert(len(df_staff) == 53), \"Check you've added all the course staff correctly.\"\n",
    "assert(len(df_staff.columns.to_list()) == 134), \"You should have all of the questions columns and the Similarity Score column in df_staff.\" \n",
    "\n",
    "## == SUCCESS MESSAGE ==\n",
    "# You will only see this message (with the emoji showing) if you passed all test cases:\n",
    "tada = \"\\N{PARTY POPPER}\"\n",
    "print(f\"{tada} All tests passed! {tada}\")"
   ]
  },
  {
   "attachments": {},
   "cell_type": "markdown",
   "execution_count": 0,
   "metadata": {},
   "outputs": [],
   "source": [
    "### Puzzle 3.5: Course Staff Twin!\n",
    "\n",
    "Now that we have the course staff responses in `df_staff`, find your course staff twin (the staff member who has the **highest Similarity Score** to you)."
   ]
  },
  {
   "cell_type": "code",
   "execution_count": 0,
   "metadata": {},
   "outputs": [],
   "source": [
    "..."
   ]
  },
  {
   "attachments": {},
   "cell_type": "markdown",
   "execution_count": 0,
   "metadata": {},
   "outputs": [],
   "source": [
    "### Analysis: Final Reflection\n",
    "\n",
    "**Q3: Do you think our method of finding similar people is effective? Why or why not? What could improve it?**"
   ]
  },
  {
   "cell_type": "markdown",
   "execution_count": 0,
   "metadata": {},
   "outputs": [],
   "source": [
    "*(✏️ Edit this cell to replace this text with your answer. ✏️)*"
   ]
  },
  {
   "cell_type": "markdown",
   "execution_count": 0,
   "metadata": {},
   "outputs": [],
   "source": [
    "<hr style=\"color: #DD3403;\">"
   ]
  },
  {
   "cell_type": "markdown",
   "execution_count": 0,
   "metadata": {},
   "outputs": [],
   "source": [
    "# Submission\n",
    "\n",
    "You're almost done!  All you need to do is to commit your lab to GitHub:\n",
    "\n",
    "1.  ⚠️ **Make certain to save your work.** ⚠️ To do this, go to **File => Save All**\n",
    "\n",
    "2.  After you have saved, exit this notebook and follow the Canvas instructions to commit this lab to your Git repository!\n",
    "\n",
    "3. Your TA will grade your submission and provide you feedback after the lab is due. :)"
   ]
  }
 ],
 "metadata": {
  "kernelspec": {
   "display_name": "Python 3",
   "language": "python",
   "name": "python3"
  },
  "language_info": {
   "codemirror_mode": {
    "name": "ipython",
    "version": 3
   },
   "file_extension": ".py",
   "mimetype": "text/x-python",
   "name": "python",
   "nbconvert_exporter": "python",
   "pygments_lexer": "ipython3",
   "version": "3.11.3"
  },
  "vscode": {
   "interpreter": {
    "hash": "369f2c481f4da34e4445cda3fffd2e751bd1c4d706f27375911949ba6bb62e1c"
   }
  }
 },
 "nbformat": 4,
 "nbformat_minor": 2
}
