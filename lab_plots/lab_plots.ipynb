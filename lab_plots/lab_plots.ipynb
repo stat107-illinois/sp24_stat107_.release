{
 "cells": [
  {
   "attachments": {},
   "cell_type": "markdown",
   "execution_count": 0,
   "metadata": {},
   "outputs": [],
   "source": [
    "# Welcome to Lab_Plots! 🕵🏻‍♂️ 📊 🕵🏻‍♀️\n",
    "\n",
    "Fun fact: Every employee at the University of Illinois is a \"public employee\" and all public employee salaries are [publicly available online](https://www.bot.uillinois.edu/resources/gray_book) -- we have curated this data in a cleaned dataset for you to explore!  This includes data about every professor, administrator, and football coach!\n",
    "\n",
    "The goal of this lab is to work with **real UIUC salary data** to explore its properties, answer important questions, and to think about the implications of collecting and analyzing this data.  Throughout the lab, it is important to think about being a critical consumer of data who can not only use statistics and programming to analyze data, but can also think about the **\"why\"** part of data science both in the classroom and in the world. Let’s get started!\n",
    "\n",
    "In this lab, you will:\n",
    "- Work with real UIUC salary data to explore some of the statistics that we talked about in lecture: mean, median, standard deviation, etc.\n",
    "- Practice creating plots to **visualize quantitative data**: boxplots and histograms.\n",
    "- See how data science can be used in the real world to think about important issues through written individual reflections and discussions with your group.\n",
    "\n",
    "A few tips to remember:\n",
    "\n",
    "- **You are not alone on your journey in learning programming!**  You have your lab TA, the CAs, your lab group, and the professors (Prof. Wade and Prof. Karle), who are all here to help you out!\n",
    "- If you find yourself stuck for more than a few minutes, ask a neighbor or course staff for help!  When you are giving help to your neighbor, explain the **idea and approach** to the problem without sharing the answer itself so they can have the same **<i>ah-hah</i>** moment!\n",
    "- We are here to help you!  Don't feel embarrassed or shy to ask us for help!\n",
    "\n",
    "Let's get started!\n"
   ]
  },
  {
   "cell_type": "markdown",
   "execution_count": 0,
   "metadata": {},
   "outputs": [],
   "source": [
    "<hr style=\"color: #DD3403;\">"
   ]
  },
  {
   "cell_type": "code",
   "execution_count": 0,
   "metadata": {},
   "outputs": [],
   "source": [
    "# Meet your CAs and TA if you haven't already!\n",
    "# First name is enough, we'll know who they are! :)\n",
    "ta_name = \"\"\n",
    "ca1_name = \"\"\n",
    "ca2_name = \"\"\n",
    "ca3_name = \"\"\n",
    "\n",
    "# Work with your group again this week! \n",
    "#\n",
    "# QOTD to Ask Your Group: \"What was your favorite childhood game?\"\n",
    "partner1_name = \"\"\n",
    "partner1_netid = \"\"\n",
    "partner1_fav_game = \"\"\n",
    "\n",
    "partner2_name = \"\"\n",
    "partner2_netid = \"\"\n",
    "partner2_fav_game = \"\"\n",
    "\n",
    "partner3_name = \"\"\n",
    "partner3_netid = \"\"\n",
    "partner3_fav_game = \"\""
   ]
  },
  {
   "cell_type": "markdown",
   "execution_count": 0,
   "metadata": {},
   "outputs": [],
   "source": [
    "<hr style=\"color: #DD3403;\">"
   ]
  },
  {
   "attachments": {},
   "cell_type": "markdown",
   "execution_count": 0,
   "metadata": {},
   "outputs": [],
   "source": [
    "## Setup: Import the Graybook Dataset\n",
    "\n",
    "The \"Gray Book\" is historical term for the book of \"Academic and Administrative Appointments\".  As a public university, all positions (including job title, tenure status, and salary) at UIUC are publicly approved by the Board of Trustees.  After approval, they are published publicly at [https://www.bot.uillinois.edu/resources/gray_book](https://www.bot.uillinois.edu/resources/gray_book).\n",
    "\n",
    "We have parsed the HTML tables and done a little data cleaning for you. The \"Graybook Dataset\" provided here includes all faculty (except for the Division of Collegiate Athletics, for salary outlier reasons) at the University of Illinois, based on the **2022-2023 Graybook report**.  A CSV version of this dataset is available at the following URL:\n",
    "\n",
    "```\n",
    "https://waf.cs.illinois.edu/discovery/graybook.csv\n",
    "```\n",
    "\n",
    "Import `pandas` and load this dataset into a DataFrame, `df`:"
   ]
  },
  {
   "cell_type": "code",
   "execution_count": 0,
   "metadata": {
    "deletable": false,
    "nbgrader": {
     "cell_type": "code",
     "checksum": "40a9b55a4721908243d995f8d7f2fbb7",
     "grade": false,
     "grade_id": "cell-27971beecac131cc",
     "locked": false,
     "schema_version": 3,
     "solution": true,
     "task": false
    }
   },
   "outputs": [],
   "source": [
    "..."
   ]
  },
  {
   "cell_type": "markdown",
   "execution_count": 0,
   "metadata": {},
   "outputs": [],
   "source": [
    "### 🔬 Test Case Checkpoint 🔬"
   ]
  },
  {
   "cell_type": "code",
   "execution_count": 0,
   "metadata": {},
   "outputs": [],
   "source": [
    "## == TEST CASES for Loading in Graybook ==\n",
    "# - This read-only cell contains test cases for your previous cell.\n",
    "# - If this cell runs with a message (with the emoji showing), you PASSED all test cases!\n",
    "# - If this cell results in any errors, check your previous cell, make changes, and RE-RUN your code and then this cell.\n",
    "assert( 'df' in vars()), \"Load the dataset into the variable named `df`.\"\n",
    "assert ( len(df) == 6288 ), \"This is not the Graybook dataset you're looking for.\"\n",
    "\n",
    "## == SUCCESS MESSAGE ==\n",
    "# You will only see this message (with the emoji showing) if you passed all test cases:\n",
    "tada = \"\\N{PARTY POPPER}\"\n",
    "print(f\"{tada} All tests passed! {tada}\")   "
   ]
  },
  {
   "cell_type": "markdown",
   "execution_count": 0,
   "metadata": {},
   "outputs": [],
   "source": [
    "<hr style=\"color: #DD3403;\">"
   ]
  },
  {
   "attachments": {},
   "cell_type": "markdown",
   "execution_count": 0,
   "metadata": {},
   "outputs": [],
   "source": [
    "## Part 1: Exploratory Data Analysis (EDA)\n",
    "\n",
    "As discussed in lecture, the first step of any data analysis is to **get familiar** with your dataset.  Think about what this data can tell you and what variables are included.  Data scientists always start with this step.\n",
    "\n",
    "Let’s do some general **exploratory data analysis** to feel out our dataset.  Before you do any calculations, ponder this question:"
   ]
  },
  {
   "attachments": {},
   "cell_type": "markdown",
   "execution_count": 0,
   "metadata": {},
   "outputs": [],
   "source": [
    "**Q: What do you estimate the average salary of all UIUC Faculty to be?**"
   ]
  },
  {
   "cell_type": "markdown",
   "execution_count": 0,
   "metadata": {},
   "outputs": [],
   "source": [
    "*(✏️ Edit this cell to replace this text with your answer. ✏️)*"
   ]
  },
  {
   "attachments": {},
   "cell_type": "markdown",
   "execution_count": 0,
   "metadata": {},
   "outputs": [],
   "source": [
    "### Puzzle 1.1: Descriptive Statistics\n",
    "\n",
    "Our Graybook Dataset contains both the `Present Salary` and `Proposed Salary` of employees at U of I. For now, we're only interested in the present.\n",
    "\n",
    "Using `df`, find the following information:\n",
    "\n",
    "1. The number of faculty at UIUC, stored in the variable `num_employee` (Hint: each row is an employee!)\n",
    "2. The **mean** present salary, storing in the variable `mean_sal`\n",
    "3. The **median** present salary, storing in the variable `median_sal`\n",
    "4. The **standard deviation** of present salary, storing in the variable `std_sal`\n",
    "\n",
    "Remember, present salary is found in the `\"Present Salary\"` column! "
   ]
  },
  {
   "cell_type": "code",
   "execution_count": 0,
   "metadata": {
    "deletable": false,
    "nbgrader": {
     "cell_type": "code",
     "checksum": "b1bea43f79c33b854e1f15dfe00b180b",
     "grade": false,
     "grade_id": "cell-419796a0b415e588",
     "locked": false,
     "schema_version": 3,
     "solution": true,
     "task": false
    }
   },
   "outputs": [],
   "source": [
    "num_employee = ...\n",
    "num_employee"
   ]
  },
  {
   "cell_type": "code",
   "execution_count": 0,
   "metadata": {
    "deletable": false,
    "nbgrader": {
     "cell_type": "code",
     "checksum": "f86aac497feb3ecd4289626231b44964",
     "grade": false,
     "grade_id": "cell-4dbbeef1022a20e4",
     "locked": false,
     "schema_version": 3,
     "solution": true,
     "task": false
    }
   },
   "outputs": [],
   "source": [
    "mean_sal = ...\n",
    "mean_sal"
   ]
  },
  {
   "cell_type": "code",
   "execution_count": 0,
   "metadata": {
    "deletable": false,
    "nbgrader": {
     "cell_type": "code",
     "checksum": "e8f355f508ffadd1f9b645c9686c73ea",
     "grade": false,
     "grade_id": "cell-727195c3fef2cf78",
     "locked": false,
     "schema_version": 3,
     "solution": true,
     "task": false
    }
   },
   "outputs": [],
   "source": [
    "median_sal = ...\n",
    "median_sal"
   ]
  },
  {
   "cell_type": "code",
   "execution_count": 0,
   "metadata": {
    "deletable": false,
    "nbgrader": {
     "cell_type": "code",
     "checksum": "3da9719c35e35c72a09a1068d100b0f1",
     "grade": false,
     "grade_id": "cell-35e651d14a628e50",
     "locked": false,
     "schema_version": 3,
     "solution": true,
     "task": false
    }
   },
   "outputs": [],
   "source": [
    "std_sal = ...\n",
    "std_sal"
   ]
  },
  {
   "cell_type": "markdown",
   "execution_count": 0,
   "metadata": {},
   "outputs": [],
   "source": [
    "### 🔬 Test Case Checkpoint 🔬"
   ]
  },
  {
   "cell_type": "code",
   "execution_count": 0,
   "metadata": {
    "deletable": false,
    "editable": false,
    "nbgrader": {
     "cell_type": "code",
     "checksum": "56f09ea04974ac5c89f390a8825daa39",
     "grade": true,
     "grade_id": "cell-04e624817d681f8e",
     "locked": true,
     "points": 1,
     "schema_version": 3,
     "solution": false,
     "task": false
    }
   },
   "outputs": [],
   "source": [
    "## == TEST CASES for Puzzle 1.1 ==\n",
    "# - This read-only cell contains test cases for your previous cell.\n",
    "# - If this cell runs with a message (with the emoji showing), you PASSED all test cases!\n",
    "# - If this cell results in any errors, check your previous cell, make changes, and RE-RUN your code and then this cell.\n",
    "import math\n",
    "\n",
    "x = mean_sal + median_sal + std_sal\n",
    "assert( num_employee == 6288 ), \"Your calculations of the number of employees is incorrect.\"\n",
    "assert( math.isclose(x, 303895.7881426731) ), \"Your calculations of the number of employees is incorrect.\"\n",
    "\n",
    "## == SUCCESS MESSAGE ==\n",
    "# You will only see this message (with the emoji showing) if you passed all test cases:\n",
    "tada = \"\\N{PARTY POPPER}\"\n",
    "print(f\"{tada} All tests passed! {tada}\")"
   ]
  },
  {
   "attachments": {},
   "cell_type": "markdown",
   "execution_count": 0,
   "metadata": {},
   "outputs": [],
   "source": [
    "### Visual Displays of Data: A Key Part of EDA!\n",
    "\n",
    "Now, we are a bit more familiar with the dataset through summary statistics. Looking at overall descriptive statistics helps us summarize all of the observations in a column, rather than having to scroll through all of the observations!  However, descriptive statistics alone often don’t tell the whole story. This is where having tools for **visualizing statistics** comes in handy."
   ]
  },
  {
   "attachments": {},
   "cell_type": "markdown",
   "execution_count": 0,
   "metadata": {},
   "outputs": [],
   "source": [
    "### Puzzle 1.2: Boxplots\n",
    "\n",
    "Next, let’s look at a simple, yet powerful visualization: the **boxplot**! \n",
    "\n",
    "Generate a **boxplot** of the `Present Salary` column by using:\n",
    "\n",
    "> ```py\n",
    "> df[\"Present Salary\"].plot.box()\n",
    "> ```\n",
    "\n",
    "Even better, inside of the `box` function options, include `figsize=(8, 5)` to control the size of the figure:\n",
    "\n",
    "> ```py\n",
    "> df['Present Salary'].plot.box(figsize=(8, 5))\n",
    "> ```\n"
   ]
  },
  {
   "cell_type": "code",
   "execution_count": 0,
   "metadata": {},
   "outputs": [],
   "source": [
    "..."
   ]
  },
  {
   "cell_type": "markdown",
   "execution_count": 0,
   "metadata": {},
   "outputs": [],
   "source": [
    "### Analysis"
   ]
  },
  {
   "cell_type": "markdown",
   "execution_count": 0,
   "metadata": {},
   "outputs": [],
   "source": [
    "**Question**: This visualization is different than any boxplot you saw in lecture!  **With your group**, discuss (1): why the box is almost unreadable and (2): explain your prediction of what the extreme outliers might be in this dataset."
   ]
  },
  {
   "cell_type": "markdown",
   "execution_count": 0,
   "metadata": {},
   "outputs": [],
   "source": [
    "*(✏️ Edit this cell to replace this text with your group's answer. Write at least 2 complete sentences. ✏️)*"
   ]
  },
  {
   "cell_type": "markdown",
   "execution_count": 0,
   "metadata": {},
   "outputs": [],
   "source": [
    "###  Puzzle 1.3: The $500,000 Club\n",
    "\n",
    "Create a new DataFrame, `df_over_500k`, that includes all employees who make more than $500,000."
   ]
  },
  {
   "cell_type": "code",
   "execution_count": 0,
   "metadata": {},
   "outputs": [],
   "source": [
    "df_over_500k = ...\n",
    "df_over_500k"
   ]
  },
  {
   "cell_type": "markdown",
   "execution_count": 0,
   "metadata": {},
   "outputs": [],
   "source": [
    "Create a second DataFrame, `df_under_500k`, that includes all employees who make less than $500,000."
   ]
  },
  {
   "cell_type": "code",
   "execution_count": 0,
   "metadata": {},
   "outputs": [],
   "source": [
    "df_under_500k = ...\n",
    "df_under_500k"
   ]
  },
  {
   "cell_type": "markdown",
   "execution_count": 0,
   "metadata": {},
   "outputs": [],
   "source": [
    "### Part 1.4: Boxplots (Round 2)\n",
    "\n",
    "Create a boxplot of all employees who make less than $500,000:"
   ]
  },
  {
   "cell_type": "code",
   "execution_count": 0,
   "metadata": {},
   "outputs": [],
   "source": [
    "..."
   ]
  },
  {
   "cell_type": "markdown",
   "execution_count": 0,
   "metadata": {},
   "outputs": [],
   "source": [
    "### Part 1.5: Histograms"
   ]
  },
  {
   "cell_type": "markdown",
   "execution_count": 0,
   "metadata": {},
   "outputs": [],
   "source": [
    "Create a histogram of all employees who make less than $500,000:"
   ]
  },
  {
   "cell_type": "code",
   "execution_count": 0,
   "metadata": {},
   "outputs": [],
   "source": [
    "..."
   ]
  },
  {
   "attachments": {},
   "cell_type": "markdown",
   "execution_count": 0,
   "metadata": {},
   "outputs": [],
   "source": [
    "### Analysis: Reflecting on Visualization"
   ]
  },
  {
   "attachments": {},
   "cell_type": "markdown",
   "execution_count": 0,
   "metadata": {},
   "outputs": [],
   "source": [
    "**Group Q: Do you think a histogram or boxplot best visualizes the salary data? What are the advantages (or disadvantages) of either visualization? Discuss this with your group.**"
   ]
  },
  {
   "attachments": {},
   "cell_type": "markdown",
   "execution_count": 0,
   "metadata": {},
   "outputs": [],
   "source": [
    "*(✏️ Edit this cell to replace this text with your group's answer. Write at least 2 complete sentences. ✏️)*"
   ]
  },
  {
   "attachments": {},
   "cell_type": "markdown",
   "execution_count": 0,
   "metadata": {},
   "outputs": [],
   "source": [
    "**Individual Q: Why is it valuable to look at visual displays of salary data in general (as opposed to just looking at descriptive statistics like the mean and standard deviation)?**"
   ]
  },
  {
   "cell_type": "markdown",
   "execution_count": 0,
   "metadata": {},
   "outputs": [],
   "source": [
    "*(✏️ Edit this cell to replace this text with your answer. Write at least 2 complete sentences. ✏️)*"
   ]
  },
  {
   "cell_type": "markdown",
   "execution_count": 0,
   "metadata": {},
   "outputs": [],
   "source": [
    "<hr style=\"color: #DD3403;\">"
   ]
  },
  {
   "attachments": {},
   "cell_type": "markdown",
   "execution_count": 0,
   "metadata": {},
   "outputs": [],
   "source": [
    "## Part 2: Department-Level Data\n",
    "\n",
    "Our Graybook dataset also includes the `Department Name` of each employee. This means you can see what department each professor is from and look at other employees in the same department.  \n",
    "\n",
    "We can calculate **descriptive statistics** and look at visual displays of data on a **department level**!  Let’s explore whether or not there are salary **discrepancies** among departments.\n",
    "\n",
    "### Puzzle 2.1: Grouping the Data\n",
    "\n",
    "In lecture, you learned syntax that will help you **group** all of the people in each department so you can find departmental aggregates.  In other words, we want to group by `'Department Name'`.\n",
    "\n",
    "To make things easier to read, we will first modify your DataFrame to include only the `Department Name` and `Present Salary` fields before you `groupby`.\n",
    "\n",
    "First, using the cell below, create a second DataFrame named `df2` **containing only** the `Department Name` and `Present Salary` columns. Remember to use **double square-brackets** to specify these columns. Here's an example of the syntax: `df[['col1', 'col2']]`.\n",
    "- Make sure to use `df` that contains ALL employees."
   ]
  },
  {
   "cell_type": "code",
   "execution_count": 0,
   "metadata": {},
   "outputs": [],
   "source": [
    "df2 = ...\n",
    "df2"
   ]
  },
  {
   "attachments": {},
   "cell_type": "markdown",
   "execution_count": 0,
   "metadata": {},
   "outputs": [],
   "source": [
    "Now, `groupby` Department Name and find the mean Present Salary for each department to create `agg_mean_df`:"
   ]
  },
  {
   "cell_type": "code",
   "execution_count": 0,
   "metadata": {
    "deletable": false,
    "nbgrader": {
     "cell_type": "code",
     "checksum": "912abaecdf749394d0921e160cd15746",
     "grade": false,
     "grade_id": "cell-72189b308296916b",
     "locked": false,
     "schema_version": 3,
     "solution": true,
     "task": false
    }
   },
   "outputs": [],
   "source": [
    "agg_mean_df = ...\n",
    "agg_mean_df"
   ]
  },
  {
   "cell_type": "markdown",
   "execution_count": 0,
   "metadata": {},
   "outputs": [],
   "source": [
    "### 🔬 Test Case Checkpoint 🔬"
   ]
  },
  {
   "cell_type": "code",
   "execution_count": 0,
   "metadata": {
    "deletable": false,
    "editable": false,
    "nbgrader": {
     "cell_type": "code",
     "checksum": "0bbf4ebd7bc25281632fc296ffd2b063",
     "grade": true,
     "grade_id": "cell-d4a69c902629304a",
     "locked": true,
     "points": 1,
     "schema_version": 3,
     "solution": false,
     "task": false
    }
   },
   "outputs": [],
   "source": [
    "## == TEST CASES for Puzzle 2.1 ==\n",
    "# - This read-only cell contains test cases for your previous cell.\n",
    "# - If this cell runs with a message (with the emoji showing), you PASSED all test cases!\n",
    "# - If this cell results in any errors, check your previous cell, make changes, and RE-RUN your code and then this cell.\n",
    "import math\n",
    "assert ( len(df2.columns) == 2 ), \"Make sure your df2 contains only the Department Name and Present Salary columns.\"\n",
    "assert (\"agg_mean_df\" in vars()), \"Make sure your aggregated DataFrame of means is named 'agg_mean_df'.\"\n",
    "assert( len(agg_mean_df) == 258 ), \"You should have 264 different departments.  Check to make sure you've grouped the data correctly.\"\n",
    "assert( \"Present Salary\" in agg_mean_df ), \"Your agg_mean_df is missing the Salary column.\"\n",
    "assert( math.isclose(agg_mean_df['Present Salary'].mean(), 103214.15081569373 ) ), \"Your salary values are incorrect. Double-check that you are aggregating by `mean`.\"\n",
    "\n",
    "## == SUCCESS MESSAGE ==\n",
    "# You will only see this message (with the emoji showing) if you passed all test cases:\n",
    "tada = \"\\N{PARTY POPPER}\"\n",
    "print(f\"{tada} All tests passed! {tada}\")"
   ]
  },
  {
   "attachments": {},
   "cell_type": "markdown",
   "execution_count": 0,
   "metadata": {},
   "outputs": [],
   "source": [
    "### Puzzle 2.2: Department Comparisons\n",
    "\n",
    "Let’s look at how the **mean salaries** differ across departments.\n",
    "\n",
    "Using your `agg_mean_df`, in the following three cells, find the **mean** present salary for each of these departments:\n",
    "- The department of `English`, stored in the variable `mean_eng`\n",
    "- The department of `Psychology`, stored in the variable `mean_psych`\n",
    "- The department of `Electrical & Computer Eng`, stored in the variable `mean_ece`\n",
    "\n",
    "Remember, you can filter your `agg_mean_df` to these **departments** by using the `names` provided above (**\"English\"**, **\"Psychology\"**, and **\"Electrical & Computer Eng\"**). Then, just find the mean `Present Salary` for each of these departments. Make sure that your output returns the mean `Present Salary` as a number, not just a DataFrame with the mean in one of the rows.\n"
   ]
  },
  {
   "cell_type": "code",
   "execution_count": 0,
   "metadata": {},
   "outputs": [],
   "source": [
    "mean_eng = ...\n",
    "mean_eng"
   ]
  },
  {
   "cell_type": "code",
   "execution_count": 0,
   "metadata": {},
   "outputs": [],
   "source": [
    "mean_psych = ...\n",
    "mean_psych"
   ]
  },
  {
   "cell_type": "code",
   "execution_count": 0,
   "metadata": {},
   "outputs": [],
   "source": [
    "mean_ece = ...\n",
    "mean_ece"
   ]
  },
  {
   "cell_type": "markdown",
   "execution_count": 0,
   "metadata": {},
   "outputs": [],
   "source": [
    "### 🔬 Test Case Checkpoint 🔬"
   ]
  },
  {
   "cell_type": "code",
   "execution_count": 0,
   "metadata": {},
   "outputs": [],
   "source": [
    "## == TEST CASES for Puzzle 2.2 ==\n",
    "# - This read-only cell contains test cases for your previous cell.\n",
    "# - If this cell runs with a message (with the emoji showing), you PASSED all test cases!\n",
    "# - If this cell results in any errors, check your previous cell, make changes, and RE-RUN your code and then this cell.\n",
    "assert( math.isclose( float(mean_eng), 76977.86060606061 ) ), \"The mean salary you calculated of the English department is incorrect.\"\n",
    "assert( math.isclose( float(mean_psych), 119444.842 ) ), \"The mean salary you calculated of the Psychology department is incorrect.\"\n",
    "assert( math.isclose( float(mean_ece), 159314.705625 ) ), \"The mean salary you calculated of the ECE department is incorrect.\"\n",
    "\n",
    "## == SUCCESS MESSAGE ==\n",
    "# You will only see this message (with the emoji showing) if you passed all test cases:\n",
    "tada = \"\\N{PARTY POPPER}\"\n",
    "print(f\"{tada} All tests passed! {tada}\")"
   ]
  },
  {
   "attachments": {},
   "cell_type": "markdown",
   "execution_count": 0,
   "metadata": {},
   "outputs": [],
   "source": [
    "### Analysis: Department Differences"
   ]
  },
  {
   "attachments": {},
   "cell_type": "markdown",
   "execution_count": 0,
   "metadata": {},
   "outputs": [],
   "source": [
    "**Group Q: Discuss this with your group. Why do you think certain departments have higher mean salaries than others? Are there potential confounding factors or explanations for the differences?**"
   ]
  },
  {
   "attachments": {},
   "cell_type": "markdown",
   "execution_count": 0,
   "metadata": {},
   "outputs": [],
   "source": [
    "*(✏️ Edit this cell to replace this text with your group's answer. Write at least 2 complete sentences. ✏️)*"
   ]
  },
  {
   "attachments": {},
   "cell_type": "markdown",
   "execution_count": 0,
   "metadata": {},
   "outputs": [],
   "source": [
    "### Puzzle 2.3: Grouping the Data, Again\n",
    "\n",
    "We have an aggregated DataFrame of the salaries by department, but what if we want to find the number of employees in each department? \n",
    "\n",
    "Luckily, `pandas` lets us `groupby` and count the **number of rows** in each group. This is known as aggregating by `count`. Because each row represents a single employee, we can use this to find the number of employees per department. \n",
    "\n",
    "In the cell below, using your `df2` from earlier, create `agg_count_df` which finds the number of employees in each department:"
   ]
  },
  {
   "cell_type": "code",
   "execution_count": 0,
   "metadata": {},
   "outputs": [],
   "source": [
    "agg_count_df = ...\n",
    "agg_count_df"
   ]
  },
  {
   "attachments": {},
   "cell_type": "markdown",
   "execution_count": 0,
   "metadata": {},
   "outputs": [],
   "source": [
    "If done correctly, your `agg_count_df` should now contain the number of employees in each department under the `Present Salary` column because grouping by `count` **counts the rows in each department**. But this column name is **misleading**. \n",
    "\n",
    "**Run the provided cell below** to rename the `Present Salary` column to `Num Employees`:"
   ]
  },
  {
   "cell_type": "code",
   "execution_count": 0,
   "metadata": {},
   "outputs": [],
   "source": [
    "agg_count_df.rename(columns={\"Present Salary\": \"Num Employees\"}, inplace=True)\n",
    "agg_count_df"
   ]
  },
  {
   "cell_type": "markdown",
   "execution_count": 0,
   "metadata": {},
   "outputs": [],
   "source": [
    "### 🔬 Test Case Checkpoint 🔬"
   ]
  },
  {
   "cell_type": "code",
   "execution_count": 0,
   "metadata": {},
   "outputs": [],
   "source": [
    "## == TEST CASES for Puzzle 2.3 ==\n",
    "# - This read-only cell contains test cases for your previous cell.\n",
    "# - If this cell runs with a message (with the emoji showing), you PASSED all test cases!\n",
    "# - If this cell results in any errors, check your previous cell, make changes, and RE-RUN your code and then this cell.\n",
    "import math\n",
    "assert (\"agg_count_df\" in vars()), \"Make sure your aggregated DataFrame of employee counts is named 'agg_count_df'.\"\n",
    "assert( len(agg_count_df) == 258 ), \"You should have 258 different departments.  Check to make sure you've grouped the data correctly.\"\n",
    "assert( \"Num Employees\" in agg_count_df ), \"Your agg_count_df is missing the Num Employees column. Make sure you ran the provided cell to rename the column.\"\n",
    "assert( math.isclose( agg_count_df['Num Employees'].mean(), 24.372093023255815 ) ), \"Your employee counts are incorrect. Double-check that you are aggregating by `count`.\"\n",
    "\n",
    "## == SUCCESS MESSAGE ==\n",
    "# You will only see this message (with the emoji showing) if you passed all test cases:\n",
    "tada = \"\\N{PARTY POPPER}\"\n",
    "print(f\"{tada} All tests passed! {tada}\")"
   ]
  },
  {
   "attachments": {},
   "cell_type": "markdown",
   "execution_count": 0,
   "metadata": {},
   "outputs": [],
   "source": [
    "### Puzzle 2.4: Employee Counts\n",
    "\n",
    "Now, using your `agg_count_df`, in the following three cells, find the **number of employees** for each of these departments:\n",
    "- The department of `English`, stored in the variable `eng_employees`\n",
    "- The department of `Psychology`, stored in the variable `psych_employees`\n",
    "- The department of `Electrical & Computer Eng`, stored in the variable `ece_employees`\n",
    "\n",
    "This should be quite similar to your solutions to Puzzle 2.2 above, but now we need to use the **\"Num Employees\"** column."
   ]
  },
  {
   "cell_type": "code",
   "execution_count": 0,
   "metadata": {},
   "outputs": [],
   "source": [
    "eng_employees = ...\n",
    "eng_employees"
   ]
  },
  {
   "cell_type": "code",
   "execution_count": 0,
   "metadata": {},
   "outputs": [],
   "source": [
    "psych_employees = ...\n",
    "psych_employees"
   ]
  },
  {
   "cell_type": "code",
   "execution_count": 0,
   "metadata": {},
   "outputs": [],
   "source": [
    "ece_employees = ...\n",
    "ece_employees"
   ]
  },
  {
   "cell_type": "markdown",
   "execution_count": 0,
   "metadata": {},
   "outputs": [],
   "source": [
    "### 🔬 Test Case Checkpoint 🔬"
   ]
  },
  {
   "cell_type": "code",
   "execution_count": 0,
   "metadata": {},
   "outputs": [],
   "source": [
    "## == TEST CASES for Puzzle 2.4 ==\n",
    "# - This read-only cell contains test cases for your previous cell.\n",
    "# - If this cell runs with a message (with the emoji showing), you PASSED all test cases!\n",
    "# - If this cell results in any errors, check your previous cell, make changes, and RE-RUN your code and then this cell.\n",
    "assert( float(eng_employees) == 99), \"The number of employees calculated of the English department is incorrect.\"\n",
    "assert( float(psych_employees) == 70), \"The number of employees you calculated of the Psychology department is incorrect.\"\n",
    "assert( float(ece_employees) == 112), \"The number of employees you calculated of the ECE department is incorrect.\"\n",
    "\n",
    "## == SUCCESS MESSAGE ==\n",
    "# You will only see this message (with the emoji showing) if you passed all test cases:\n",
    "tada = \"\\N{PARTY POPPER}\"\n",
    "print(f\"{tada} All tests passed! {tada}\")"
   ]
  },
  {
   "attachments": {},
   "cell_type": "markdown",
   "execution_count": 0,
   "metadata": {},
   "outputs": [],
   "source": [
    "### Analysis: Employees and Salaries"
   ]
  },
  {
   "attachments": {},
   "cell_type": "markdown",
   "execution_count": 0,
   "metadata": {},
   "outputs": [],
   "source": [
    "**Group Q: Do you think department employee counts have any influence on the average salaries you observed earlier? Why or why not?**"
   ]
  },
  {
   "attachments": {},
   "cell_type": "markdown",
   "execution_count": 0,
   "metadata": {},
   "outputs": [],
   "source": [
    "*(✏️ Edit this cell to replace this text with your group's answer. Write at least 2 complete sentences. ✏️)*"
   ]
  },
  {
   "attachments": {},
   "cell_type": "markdown",
   "execution_count": 0,
   "metadata": {},
   "outputs": [],
   "source": [
    "### Puzzle 2.5: Revisiting Visualization\n",
    "\n",
    "Earlier, we observed the importance of data visualization with histograms and boxplots. Let's apply these plotting techniques to the aggregated DataFrames you've recently created! \n",
    "\n",
    "First, using your DataFrame `agg_mean_df`, generate a histogram displaying the distribution of department `Present Salary` means across UIUC:"
   ]
  },
  {
   "cell_type": "code",
   "execution_count": 0,
   "metadata": {},
   "outputs": [],
   "source": [
    "..."
   ]
  },
  {
   "attachments": {},
   "cell_type": "markdown",
   "execution_count": 0,
   "metadata": {},
   "outputs": [],
   "source": [
    "Now, using your DataFrame `agg_count_df`, generate a histogram displaying the distribution of `Num Employees` in departments across UIUC:"
   ]
  },
  {
   "cell_type": "code",
   "execution_count": 0,
   "metadata": {},
   "outputs": [],
   "source": [
    "..."
   ]
  },
  {
   "attachments": {},
   "cell_type": "markdown",
   "execution_count": 0,
   "metadata": {},
   "outputs": [],
   "source": [
    "### Analysis: Histogram Takeaways"
   ]
  },
  {
   "attachments": {},
   "cell_type": "markdown",
   "execution_count": 0,
   "metadata": {},
   "outputs": [],
   "source": [
    "**Individual Q: Write down at least three observations you can make from the histograms generated above. Make sure each one is a complete sentence.**"
   ]
  },
  {
   "cell_type": "markdown",
   "execution_count": 0,
   "metadata": {},
   "outputs": [],
   "source": [
    "*(✏️ Edit this cell to replace this text with your group's answer. ✏️)*"
   ]
  },
  {
   "cell_type": "markdown",
   "execution_count": 0,
   "metadata": {},
   "outputs": [],
   "source": [
    "<hr style=\"color: #DD3403;\">"
   ]
  },
  {
   "cell_type": "markdown",
   "execution_count": 0,
   "metadata": {},
   "outputs": [],
   "source": [
    "## Part 3: Gender and Salaries\n",
    "\n",
    "Data can often reveal **systemic problems or discrimination**. For example, in many companies, men and women are promoted at **different rates**.  Let’s look at a subset of the salary dataset to investigate whether or not there is a **difference in salaries** between faculty who identify as men and women in two departments: **STAT** and **CS** (Karle and Wade’s home departments). \n",
    "\n",
    "We've compiled data from these departments, added a `Gender` column, and placed it in a dataset called `STAT_CS_gender.csv`. \n",
    "\n",
    "This data is also located in the **same directory as this lab**. To load it in, just specify the **local file path** (`\"STAT_CS_gender.csv\"`)!"
   ]
  },
  {
   "cell_type": "markdown",
   "execution_count": 0,
   "metadata": {},
   "outputs": [],
   "source": [
    "### Puzzle 3.1: Loading Our Dataset\n",
    "Using the cell below, import `STAT_CS_gender.csv`, store it in a variable called `STAT_CS_df`, and display it to see what it looks like!"
   ]
  },
  {
   "cell_type": "code",
   "execution_count": 0,
   "metadata": {
    "deletable": false,
    "nbgrader": {
     "cell_type": "code",
     "checksum": "fbf16695acaebfe92f608b5121644035",
     "grade": false,
     "grade_id": "cell-dca5763613817466",
     "locked": false,
     "schema_version": 3,
     "solution": true,
     "task": false
    }
   },
   "outputs": [],
   "source": [
    "STAT_CS_df = ...\n",
    "STAT_CS_df"
   ]
  },
  {
   "cell_type": "markdown",
   "execution_count": 0,
   "metadata": {},
   "outputs": [],
   "source": [
    "Now, let's create **two subsets** of our `STAT_CS_df`. \n",
    "\n",
    "Using conditionals in the cells below, create:\n",
    "- `STAT_CS_M`, a `DataFrame` of the staff and faculty who identify as Male (**\"M\"**) under the `Gender` column \n",
    "- `STAT_CS_F`, a `DataFrame` of the staff and faculty who identified as Female (**\"F\"**) under the `Gender` column "
   ]
  },
  {
   "cell_type": "code",
   "execution_count": 0,
   "metadata": {},
   "outputs": [],
   "source": [
    "STAT_CS_M = ...\n",
    "STAT_CS_M"
   ]
  },
  {
   "cell_type": "code",
   "execution_count": 0,
   "metadata": {},
   "outputs": [],
   "source": [
    "STAT_CS_F = ...\n",
    "STAT_CS_F"
   ]
  },
  {
   "cell_type": "markdown",
   "execution_count": 0,
   "metadata": {},
   "outputs": [],
   "source": [
    "### 🔬 Test Case Checkpoint 🔬"
   ]
  },
  {
   "cell_type": "code",
   "execution_count": 0,
   "metadata": {},
   "outputs": [],
   "source": [
    "## == TEST CASES for Puzzle 3.1 ==\n",
    "# - This read-only cell contains test cases for your previous cell.\n",
    "# - If this cell runs without any errors, you PASSED all test cases!\n",
    "# - If this cell results in any errors, check your previous cell, make changes, and RE-RUN your code and then this cell.\n",
    "assert(\"STAT_CS_df\" in vars()), \"Ensure you've named your original DataFrame `STAT_CS_df`.\"\n",
    "assert(len(STAT_CS_df) == 145), \"This is not the STAT_CS_df you are looking for.\"\n",
    "assert(\"STAT_CS_M\" in vars()), \"Ensure your male subset of STAT_CS_df is named `STAT_CS_M`.\"\n",
    "assert(len(STAT_CS_M) == 106), \"Double check your conditional to generate STAT_CS_M - the number of rows is incorrect.\"\n",
    "assert(\"STAT_CS_F\" in vars()), \"Ensure your female subset of STAT_CS_df is named `STAT_CS_F`.\"\n",
    "assert(len(STAT_CS_F) == 39), \"Double check your conditional to generate STAT_CS_F - the number of rows is incorrect.\"\n",
    "\n",
    "## == SUCCESS MESSAGE ==\n",
    "# You will only see this message (with the emoji showing) if you passed all test cases:\n",
    "tada = \"\\N{PARTY POPPER}\"\n",
    "print(f\"{tada} All tests passed! {tada}\")"
   ]
  },
  {
   "attachments": {},
   "cell_type": "markdown",
   "execution_count": 0,
   "metadata": {},
   "outputs": [],
   "source": [
    "### Puzzle 3.2: Merging Two Columns into One DataFrame\n",
    "\n",
    "To create a new DataFrame containing only the data you found above, the following provided line of code creates `df_salary_by_gender`:"
   ]
  },
  {
   "cell_type": "code",
   "execution_count": 0,
   "metadata": {},
   "outputs": [],
   "source": [
    "df_salary_by_gender = pd.DataFrame({\n",
    "    \"female\": STAT_CS_F[\"Present Salary\"],\n",
    "    \"male\": STAT_CS_M[\"Present Salary\"],\n",
    "})"
   ]
  },
  {
   "attachments": {},
   "cell_type": "markdown",
   "execution_count": 0,
   "metadata": {},
   "outputs": [],
   "source": [
    "Take a look at the DataFrame `df_salary_by_gender`.  Every row will either have data for in the `female` column or the `male` column:"
   ]
  },
  {
   "cell_type": "code",
   "execution_count": 0,
   "metadata": {},
   "outputs": [],
   "source": [
    "df_salary_by_gender"
   ]
  },
  {
   "attachments": {},
   "cell_type": "markdown",
   "execution_count": 0,
   "metadata": {},
   "outputs": [],
   "source": [
    "### Puzzle 3.3: Visualization\n",
    "\n",
    "Let's create a visualization! Using the next cell, create a **boxplot** of `df_salary_by_gender` that includes both genders:"
   ]
  },
  {
   "cell_type": "code",
   "execution_count": 0,
   "metadata": {},
   "outputs": [],
   "source": [
    "..."
   ]
  },
  {
   "attachments": {},
   "cell_type": "markdown",
   "execution_count": 0,
   "metadata": {},
   "outputs": [],
   "source": [
    "### Puzzle 3.4: EDA, Again\n",
    "\n",
    "Now that we've visualized the data, let's explore some basic statistics once more to gain further insight. \n",
    "\n",
    "In the following cells, calculate:\n",
    "- The **mean** `Present Salary` for **Male** STAT/CS Faculty, storing in the variable `mean_m`\n",
    "- The **median** `Present Salary` for **Male** STAT/CS Faculty, storing in the variable `median_m`\n",
    "- The **standard deviation** of `Present Salary` for **Male** STAT/CS Faculty, storing in the variable `std_m`"
   ]
  },
  {
   "cell_type": "code",
   "execution_count": 0,
   "metadata": {},
   "outputs": [],
   "source": [
    "mean_m = ...\n",
    "mean_m"
   ]
  },
  {
   "cell_type": "code",
   "execution_count": 0,
   "metadata": {},
   "outputs": [],
   "source": [
    "median_m = ...\n",
    "median_m"
   ]
  },
  {
   "cell_type": "code",
   "execution_count": 0,
   "metadata": {},
   "outputs": [],
   "source": [
    "std_m = ...\n",
    "std_m"
   ]
  },
  {
   "attachments": {},
   "cell_type": "markdown",
   "execution_count": 0,
   "metadata": {},
   "outputs": [],
   "source": [
    "Now, in the cells below, calculate:\n",
    "\n",
    "- The **mean** `Present Salary` for **Female** STAT/CS Faculty, storing in the variable `mean_f`\n",
    "- The **median** `Present Salary` for **Female** STAT/CS Faculty, storing in the variable `median_f` \n",
    "- The **standard deviation** of `Present Salary` for **Female** STAT/CS Faculty, storing in the variable `std_f`"
   ]
  },
  {
   "cell_type": "code",
   "execution_count": 0,
   "metadata": {},
   "outputs": [],
   "source": [
    "mean_f = ...\n",
    "mean_f"
   ]
  },
  {
   "cell_type": "code",
   "execution_count": 0,
   "metadata": {},
   "outputs": [],
   "source": [
    "median_f = ...\n",
    "median_f"
   ]
  },
  {
   "cell_type": "code",
   "execution_count": 0,
   "metadata": {},
   "outputs": [],
   "source": [
    "std_f = ...\n",
    "std_f"
   ]
  },
  {
   "cell_type": "markdown",
   "execution_count": 0,
   "metadata": {},
   "outputs": [],
   "source": [
    "Run the following cell to make a summary table of your previously calculated data:"
   ]
  },
  {
   "cell_type": "code",
   "execution_count": 0,
   "metadata": {},
   "outputs": [],
   "source": [
    "pd.DataFrame([\n",
    "  {\"Gender\": \"F\", \"Mean ($)\": round(mean_f), \"Median ($)\": round(median_f), \"Standard Deviation ($)\": round(std_f)},\n",
    "  {\"Gender\": \"M\", \"Mean ($)\": round(mean_m), \"Median ($)\": round(median_m), \"Standard Deviation ($)\": round(std_m)},\n",
    "])"
   ]
  },
  {
   "cell_type": "markdown",
   "execution_count": 0,
   "metadata": {},
   "outputs": [],
   "source": [
    "### 🔬 Test Case Checkpoint 🔬"
   ]
  },
  {
   "cell_type": "code",
   "execution_count": 0,
   "metadata": {},
   "outputs": [],
   "source": [
    "## == TEST CASES for Puzzle 3.4 ==\n",
    "# - This read-only cell contains test cases for your previous cell.\n",
    "# - If this cell runs with a message (with the emoji showing), you PASSED all test cases!\n",
    "# - If this cell results in any errors, check your previous cell, make changes, and RE-RUN your code and then this cell.\n",
    "import math\n",
    "assert( math.isclose( mean_f, 157847.477949 ) )\n",
    "assert( math.isclose( median_f, 138000.0 ) )\n",
    "assert( math.isclose( std_f, 50583.799487 ) )\n",
    "assert( math.isclose( mean_m, 157679.508208 ) )\n",
    "assert( math.isclose( median_m, 152500.0 ) )\n",
    "assert( math.isclose( std_m, 49368.327380 ) )\n",
    "\n",
    "## == SUCCESS MESSAGE ==\n",
    "# You will only see this message (with the emoji showing) if you passed all test cases:\n",
    "tada = \"\\N{PARTY POPPER}\"\n",
    "print(f\"{tada} All tests passed! {tada}\")"
   ]
  },
  {
   "cell_type": "markdown",
   "execution_count": 0,
   "metadata": {},
   "outputs": [],
   "source": [
    "### Analysis: EDA Takeaways"
   ]
  },
  {
   "cell_type": "markdown",
   "execution_count": 0,
   "metadata": {},
   "outputs": [],
   "source": [
    "**Q: Now that you've calculated descriptive statistics of the `Present Salary` of Male and Female STAT/CS Faculty, how do the numbers support or counter the boxplot observations you made earlier? Can we draw any conclusions about gender-based salary discrimination from our data? Use the analysis you did to support your answer.**"
   ]
  },
  {
   "cell_type": "markdown",
   "execution_count": 0,
   "metadata": {},
   "outputs": [],
   "source": [
    "*(✏️ Edit this cell to replace this text with your answer. Write at least 3 complete sentences. ✏️)*"
   ]
  },
  {
   "cell_type": "markdown",
   "execution_count": 0,
   "metadata": {},
   "outputs": [],
   "source": [
    "<hr style=\"color: #DD3403;\">"
   ]
  },
  {
   "cell_type": "markdown",
   "execution_count": 0,
   "metadata": {},
   "outputs": [],
   "source": [
    "## Part 4: Exploring Your Own Interests\n",
    "\n",
    "\n",
    "At this point of the lab, we have investigated a lot of questions.\n",
    "\n",
    "However, these have been questions that **we told you to answer**. As a data scientist, it is important to be able to use the data science skills that you learn in the classroom to answer questions that **you have**.\n",
    "\n",
    "Think about **two questions** that you have about the **Graybook** or **STAT_CS_Gender** datasets that have not been answered. These can be simple questions. Record them below.  Then, answer at least one of these questions using Python and either dataset.  "
   ]
  },
  {
   "attachments": {},
   "cell_type": "markdown",
   "execution_count": 0,
   "metadata": {},
   "outputs": [],
   "source": [
    "*(✏️ Edit this cell to replace this text with your two questions. ✏️)*\n"
   ]
  },
  {
   "cell_type": "markdown",
   "execution_count": 0,
   "metadata": {},
   "outputs": [],
   "source": [
    "Now, use the cell below to **find the answer** to **one** of your questions! Remember, it can be something simple. "
   ]
  },
  {
   "cell_type": "code",
   "execution_count": 0,
   "metadata": {},
   "outputs": [],
   "source": [
    "..."
   ]
  },
  {
   "attachments": {},
   "cell_type": "markdown",
   "execution_count": 0,
   "metadata": {},
   "outputs": [],
   "source": [
    "**Group Q: Share the question you had and the results with your group.**"
   ]
  },
  {
   "cell_type": "markdown",
   "execution_count": 0,
   "metadata": {},
   "outputs": [],
   "source": [
    "*(✏️ Write the question you answered here and briefly describe the results. Write at least 2 complete sentences. ✏️)*"
   ]
  },
  {
   "cell_type": "markdown",
   "execution_count": 0,
   "metadata": {},
   "outputs": [],
   "source": [
    "<hr style=\"color: #DD3403;\">"
   ]
  },
  {
   "cell_type": "markdown",
   "execution_count": 0,
   "metadata": {},
   "outputs": [],
   "source": [
    "## Part 5: Beyond DISCOVERY\n",
    "\n",
    "As a data scientist, it is important to think about the implications of collecting and not collecting certain data.  Data that is **not** collected in an analysis is called *counter data*.  \n",
    "\n",
    "Many times, data is collected to make a profit.  Data has even been referred to as “the new oil” because it is oftentimes seen as an uncapped natural resource and if you can figure out how to capture and refine it, it can lead to a massive profit.\n",
    "\n",
    "It’s important to think about **who** data analysis can benefit and who it can harm.  It’s also important to think about **why** the data is collected and why counter data is not collected.  \n",
    "\n",
    "\n",
    "**Individual Q: Write a paragraph style response (at least 5 complete sentences) summarizing your takeaways from working with the salary data in this lab. We have listed a few questions below to give you some ideas on what to write about if you need them.**\n",
    "\n",
    "- What is some counter data that you’d like to collect in regard to salaries? Why do you think it’s important to collect this data?  \n",
    "- Who benefits from collecting this salary data?  Who does this data harm?\n",
    "- Why do you think this salary data is public? Can you think of any reasons that this could be problematic? \n",
    "- What did you learn from looking at the salaries stratified by gender?"
   ]
  },
  {
   "attachments": {},
   "cell_type": "markdown",
   "execution_count": 0,
   "metadata": {},
   "outputs": [],
   "source": [
    "*(✏️ Edit this cell to replace this text with your response. ✏️)*\n"
   ]
  },
  {
   "cell_type": "markdown",
   "execution_count": 0,
   "metadata": {},
   "outputs": [],
   "source": [
    "<hr style=\"color: #DD3403;\">"
   ]
  },
  {
   "cell_type": "markdown",
   "execution_count": 0,
   "metadata": {},
   "outputs": [],
   "source": [
    "## **Submission** \n",
    "\n",
    "\n",
    "You're almost done! All you need to do is to commit your lab to GitHub:\n",
    "\n",
    "1. Make certain to save your work. To do this, go to **File => Save All**\n",
    "\n",
    "2. After you have saved, exit this notebook and follow the Canvas instructions to commit this lab to your Git repository!\n",
    "\n",
    "3. Your TA will grade your submission and provide you feedback after the lab is due. :)"
   ]
  }
 ],
 "metadata": {
  "kernelspec": {
   "display_name": "Python 3",
   "language": "python",
   "name": "python3"
  },
  "language_info": {
   "codemirror_mode": {
    "name": "ipython",
    "version": 3
   },
   "file_extension": ".py",
   "mimetype": "text/x-python",
   "name": "python",
   "nbconvert_exporter": "python",
   "pygments_lexer": "ipython3",
   "version": "3.11.3"
  },
  "vscode": {
   "interpreter": {
    "hash": "f48b0ea9e8281b29b1f9b6045fc5406bb9891af892053a27454c097f6ae51d2c"
   }
  }
 },
 "nbformat": 4,
 "nbformat_minor": 2
}
