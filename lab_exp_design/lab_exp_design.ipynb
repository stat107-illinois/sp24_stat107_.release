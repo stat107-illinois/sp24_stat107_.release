{
 "cells": [
  {
   "attachments": {},
   "cell_type": "markdown",
   "execution_count": 0,
   "metadata": {},
   "outputs": [],
   "source": [
    "# Welcome to Lab: Experimental Design 👨‍🔬⚗️🧪\n",
    "\n",
    "Before this lab section, you completed the \"Hello Survey\" based on the questions you generated with your groups.  This week, you will do an analysis of the results and explore techniques to do great experimental design in Python!\n",
    "\n",
    "A few tips to remember:\n",
    "\n",
    "- **You are not alone on your journey in learning programming!**  You have your lab Teaching Assistant, your Course Aides, your lab group, and the professors (Prof. Wade and Prof. Karle), who are all here to help you out!\n",
    "- If you find yourself stuck for more than a few minutes, ask a neighbor or course staff for help!  When you are giving help to your neighbor, explain the **idea and approach** to the problem without sharing the answer itself so they can have the same **<i>ah-hah</i>** moment!\n",
    "- We are here to help you!  Don't feel embarrassed or shy to ask us for help!\n",
    "\n",
    "Let's get started!"
   ]
  },
  {
   "cell_type": "markdown",
   "execution_count": 0,
   "metadata": {},
   "outputs": [],
   "source": [
    "<hr style=\"color: #DD3403;\">"
   ]
  },
  {
   "cell_type": "code",
   "execution_count": 0,
   "metadata": {},
   "outputs": [],
   "source": [
    "# Meet your CAs and TA if you haven't already!\n",
    "# ...first name is enough, we'll know who they are! :)\n",
    "ta_name = \"\"\n",
    "ca1_name = \"\"\n",
    "ca2_name = \"\"\n",
    "ca3_name = \"\"\n",
    "\n",
    "# Say hello to each other!\n",
    "# - Groups of 3 are ideal :)\n",
    "# - However groups of 2 or 4 are fine too!\n",
    "partner1_name = \"\"\n",
    "partner1_netid = \"\"\n",
    "partner1_inYourGroupLastWeek = \"yes\"\n",
    "\n",
    "partner2_name = \"\"\n",
    "partner2_netid = \"\"\n",
    "partner2_inYourGroupLastWeek = \"yes\"\n",
    "\n",
    "partner3_name = \"\"\n",
    "partner3_netid = \"\"\n",
    "partner3_inYourGroupLastWeek = \"yes\""
   ]
  },
  {
   "cell_type": "markdown",
   "execution_count": 0,
   "metadata": {},
   "outputs": [],
   "source": [
    "<hr style=\"color: #DD3403;\">"
   ]
  },
  {
   "attachments": {},
   "cell_type": "markdown",
   "execution_count": 0,
   "metadata": {},
   "outputs": [],
   "source": [
    "# Part 1: Hello Dataset Analysis\n",
    "\n",
    "In lab last week, you created a series of questions that made up the **\"Hello Dataset\"**.  Before lab, you completed this survey along with the entire course.  Today, you're going to do analysis on this dataset! :)\n"
   ]
  },
  {
   "cell_type": "markdown",
   "execution_count": 0,
   "metadata": {},
   "outputs": [],
   "source": [
    "## Your Binary Question Analysis\n",
    "\n",
    "You will be analyzing the **binary question** your group asked the class from `lab_pandas` -- record it below.  If multiple people from your group had different binary questions, decide which one to use and record that question below."
   ]
  },
  {
   "cell_type": "markdown",
   "execution_count": 0,
   "metadata": {},
   "outputs": [],
   "source": [
    "*(✏️Edit this cell to add your group's question.✏️)*"
   ]
  },
  {
   "attachments": {},
   "cell_type": "markdown",
   "execution_count": 0,
   "metadata": {},
   "outputs": [],
   "source": [
    "## Load the Hello Dataset\n",
    "\n",
    "The \"Hello Dataset\" is available here:\n",
    "```\n",
    "https://waf.cs.illinois.edu/discovery/hello-sp24.csv\n",
    "```\n",
    "\n",
    "Use Python to load this dataset into a DataFrame called `df` -- and **don't forget to import pandas**! :)"
   ]
  },
  {
   "cell_type": "code",
   "execution_count": 0,
   "metadata": {},
   "outputs": [],
   "source": []
  },
  {
   "attachments": {},
   "cell_type": "markdown",
   "execution_count": 0,
   "metadata": {},
   "outputs": [],
   "source": [
    "## Find The Variable for Your Question\n",
    "\n",
    "The command `df.columns.tolist()` will **list all of the columns (variables)** in a DataFrame.  Use `df.columns.tolist()` and read the output until you find the column name for your binary question.\n",
    "\n",
    "- You may see the message: `Output exceeds the __size limit__. Open the full output data __in a text editor__`\n",
    "- If you do, click the **`__in a text editor__`** link to open the whole list in a new tab. :)"
   ]
  },
  {
   "cell_type": "code",
   "execution_count": 0,
   "metadata": {},
   "outputs": [],
   "source": [
    "df.columns.tolist()"
   ]
  },
  {
   "attachments": {},
   "cell_type": "markdown",
   "execution_count": 0,
   "metadata": {},
   "outputs": [],
   "source": [
    "## Record the Variable for Your Question\n",
    "\n",
    "In the cell below, record your question's column name as a **string** variable named `analysis_column`.  You'll need that exact column name to reference data from that cell."
   ]
  },
  {
   "cell_type": "code",
   "execution_count": 0,
   "metadata": {},
   "outputs": [],
   "source": [
    "analysis_column =  ...\n",
    "analysis_column"
   ]
  },
  {
   "cell_type": "markdown",
   "execution_count": 0,
   "metadata": {},
   "outputs": [],
   "source": [
    "### 🔬 Test Case Checkpoint 🔬"
   ]
  },
  {
   "cell_type": "code",
   "execution_count": 0,
   "metadata": {},
   "outputs": [],
   "source": [
    "## == CHECKPOINT TEST CASES ==\n",
    "# - This read-only cell contains test cases for your previous cell.\n",
    "# - If this cell runs without any error in your output, you PASSED all test cases!\n",
    "# - If this cell results in any errors, check your previous cell, make changes, and RE-RUN your code and then this cell.\n",
    "assert('df' in vars()), \"You do not have a DataFrame called `df`.\"\n",
    "assert(len(df) >= 576 and len(df) < 700), \"You have not loaded the correct Hello Dataset.\"\n",
    "assert(analysis_column in df), \"Make certain your analysis_column string is EXACTLY as it appears in the Hello Dataset.\"\n",
    "\n",
    "## == SUCCESS MESSAGE ==\n",
    "# You will only see this message (with the emoji showing) if you passed all test cases:\n",
    "tada = \"\\N{PARTY POPPER}\"\n",
    "print(f\"{tada} All tests passed! {tada}\")"
   ]
  },
  {
   "attachments": {},
   "cell_type": "markdown",
   "execution_count": 0,
   "metadata": {},
   "outputs": [],
   "source": [
    "## Column Subset: View Only Your Question's Responses\n",
    "\n",
    "To begin your question's analysis, you first want to **focus only on your question**.  In lecture, we have primarily focused on creating subsets of rows. However, you can also create a subset of columns!\n",
    "\n",
    "To create a DataFrame with just a single column, you can use the syntax:\n",
    "```\n",
    "df[ [\"column name\"] ]\n",
    "```\n",
    "- Notice the **double set of square brackets**.  You need the outer set for `df`, and the inner set for the column name.\n",
    "- Because we've already loaded your question into `analysis_column`, you won't need the quotation marks this time.\n",
    "- You can find this syntax under the \"Subset Variables (Columns)\" on your Pandas cheat sheet!\n",
    "\n",
    "With the `analysis_column` variable from above, use Python to display only the column you're analyzing.  This will make it easy to see what the two options were for your question:"
   ]
  },
  {
   "cell_type": "code",
   "execution_count": 0,
   "metadata": {},
   "outputs": [],
   "source": [
    "..."
   ]
  },
  {
   "cell_type": "markdown",
   "execution_count": 0,
   "metadata": {},
   "outputs": [],
   "source": [
    "## DataFrame: Group One\n",
    "\n",
    "Create a DataFrame, `df1`, that contains everyone who picked the first option of your two answers.  *(Make sure to make this a subset of the original `df`, and not just your one column.)*"
   ]
  },
  {
   "cell_type": "code",
   "execution_count": 0,
   "metadata": {},
   "outputs": [],
   "source": [
    "df1 = ...\n",
    "df1"
   ]
  },
  {
   "cell_type": "markdown",
   "execution_count": 0,
   "metadata": {},
   "outputs": [],
   "source": [
    "## DataFrame: Group Two\n",
    "\n",
    "Create a new DataFrame, `df2`, that contains everyone who picked the other answer:"
   ]
  },
  {
   "cell_type": "code",
   "execution_count": 0,
   "metadata": {},
   "outputs": [],
   "source": [
    "df2 = ...\n",
    "df2"
   ]
  },
  {
   "cell_type": "markdown",
   "execution_count": 0,
   "metadata": {},
   "outputs": [],
   "source": [
    "## Analysis\n",
    "\n",
    "Discuss the following questions with your group and then write down your response!"
   ]
  },
  {
   "cell_type": "markdown",
   "execution_count": 0,
   "metadata": {},
   "outputs": [],
   "source": [
    "**Q1: What percentage of people chose each of your two binary options?**"
   ]
  },
  {
   "cell_type": "markdown",
   "execution_count": 0,
   "metadata": {},
   "outputs": [],
   "source": [
    "*(✏️ Edit this cell to replace this text wth your answer. ✏️)*"
   ]
  },
  {
   "cell_type": "markdown",
   "execution_count": 0,
   "metadata": {},
   "outputs": [],
   "source": [
    "**Q2: Did this surprise you? Why or why not? Write at least one complete sentence.**"
   ]
  },
  {
   "cell_type": "markdown",
   "execution_count": 0,
   "metadata": {},
   "outputs": [],
   "source": [
    "*(✏️ Edit this cell to replace this text wth your answer. ✏️)*"
   ]
  },
  {
   "cell_type": "markdown",
   "execution_count": 0,
   "metadata": {},
   "outputs": [],
   "source": [
    "**Q3: Do you think your question was the closest to a perfect 50/50 split among the whole class?**"
   ]
  },
  {
   "cell_type": "markdown",
   "execution_count": 0,
   "metadata": {},
   "outputs": [],
   "source": [
    "*(✏️ Edit this cell to replace this text wth your answer. ✏️)*"
   ]
  },
  {
   "cell_type": "markdown",
   "execution_count": 0,
   "metadata": {},
   "outputs": [],
   "source": [
    "<hr style=\"color: #DD3403;\">"
   ]
  },
  {
   "cell_type": "markdown",
   "execution_count": 0,
   "metadata": {},
   "outputs": [],
   "source": [
    "## Part 2: Creating Treatment and Control Groups\n",
    "\n",
    "For the rest of this lab, we will consider the \"Hello Dataset\" to be a pre-survey of randomly selected participants for an upcoming experiment.  In lecture, you learned that a good experiment will split the participants into two groups: the \"treatment\" group and the \"control\" group.\n",
    "\n",
    "Recall that it is necessary to have both groups:\n",
    "\n",
    "- The \"control\" group is a comparison group that will receive a placebo and will act as a control to ensure that the treatment has an effect.\n",
    "- The \"treatment\" group will receive a treatment and we will look for differences between the results of this treatment group and the control group."
   ]
  },
  {
   "attachments": {},
   "cell_type": "markdown",
   "execution_count": 0,
   "metadata": {},
   "outputs": [],
   "source": [
    "## Part 2.1: Select a Treatment Group\n",
    "\n",
    "**Randomly** select half (50%) of the participants from our original `df` to be in the treatment group and place them into a DataFrame called `treatment`.\n",
    "- Remember, you can ask your CAs, TAs, or use your **pandas cheat sheet** to help you out!"
   ]
  },
  {
   "cell_type": "code",
   "execution_count": 0,
   "metadata": {},
   "outputs": [],
   "source": [
    "treatment = ...\n",
    "treatment"
   ]
  },
  {
   "cell_type": "markdown",
   "execution_count": 0,
   "metadata": {},
   "outputs": [],
   "source": [
    "## Part 2.2: Select a Control Group\n",
    "\n",
    "Using the **exact same technique and syntax** as you did above, also randomly select half (50%) of the participants to be in the control group.  Place them into a DataFrame called `control`. For now, it's okay if there are people who are in both groups."
   ]
  },
  {
   "cell_type": "code",
   "execution_count": 0,
   "metadata": {},
   "outputs": [],
   "source": [
    "control = ...\n",
    "control"
   ]
  },
  {
   "cell_type": "markdown",
   "execution_count": 0,
   "metadata": {},
   "outputs": [],
   "source": [
    "### 🔬 Test Case Checkpoint 🔬"
   ]
  },
  {
   "cell_type": "code",
   "execution_count": 0,
   "metadata": {},
   "outputs": [],
   "source": [
    "## == CHECKPOINT TEST CASES ==\n",
    "# - This read-only cell contains test cases for your previous cell.\n",
    "# - If this cell runs without any error in your output, you PASSED all test cases!\n",
    "# - If this cell results in any errors, check your previous cell, make changes, and RE-RUN your code and then this cell.\n",
    "assert( 'df' in vars() ), \"You do not have a DataFrame called `df`.\"\n",
    "assert( 'treatment' in vars() ), \"You do not have a DataFrame called `treatment`.\"\n",
    "assert( 'control' in vars() ), \"You do not have a DataFrame called `control`.\"\n",
    "assert( len(treatment) == len(control) ), \"The `treatment` and `control` groups must be the same size.\"\n",
    "assert( abs((len(df) / 2) - len(treatment)) <= 1 ), \"The `treatment` group size must be 50% of the `df`.\"\n",
    "assert( abs((len(df) / 2) - len(control)) <= 1 ), \"The `control` group size must be 50% of the `df`.\"\n",
    "\n",
    "\n",
    "## == SUCCESS MESSAGE ==\n",
    "# You will only see this message (with the emoji showing) if you passed all test cases:\n",
    "tada = \"\\N{PARTY POPPER}\"\n",
    "print(f\"{tada} All tests passed! {tada}\")"
   ]
  },
  {
   "cell_type": "markdown",
   "execution_count": 0,
   "metadata": {},
   "outputs": [],
   "source": [
    "## Analysis: Overlapping Selection?\n",
    "\n",
    "The following code will detect rows that are **both in your treatment and control** groups.\n",
    "\n",
    "Run the following cell to see everyone who is in both groups:"
   ]
  },
  {
   "cell_type": "code",
   "execution_count": 0,
   "metadata": {},
   "outputs": [],
   "source": [
    "df[ df.index.isin(treatment.index) & df.index.isin(control.index) ]"
   ]
  },
  {
   "cell_type": "markdown",
   "execution_count": 0,
   "metadata": {},
   "outputs": [],
   "source": [
    "**Q4: Why would your code result in some people being included in both groups? Write at least one complete sentence explaining why you think this might occur.**"
   ]
  },
  {
   "cell_type": "markdown",
   "execution_count": 0,
   "metadata": {},
   "outputs": [],
   "source": [
    "*(✏️ Edit this cell to replace this text wth your answer. ✏️)*"
   ]
  },
  {
   "cell_type": "markdown",
   "execution_count": 0,
   "metadata": {},
   "outputs": [],
   "source": [
    "## Part 2.3:\n",
    "\n",
    "Read the following guide on **using `.index.isin` to select all rows from a DataFrame not in another DataFrame**: https://discovery.cs.illinois.edu/guides/DataFrame-Row-Selection/dataframe-isin-selection/\n",
    "\n",
    "Finally, create a new `control` group that contains all of the participants from `df` that are not in `treatment`:"
   ]
  },
  {
   "cell_type": "code",
   "execution_count": 0,
   "metadata": {},
   "outputs": [],
   "source": [
    "control = ...\n",
    "control"
   ]
  },
  {
   "cell_type": "markdown",
   "execution_count": 0,
   "metadata": {},
   "outputs": [],
   "source": [
    "### 🔬 Test Case Checkpoint 🔬"
   ]
  },
  {
   "cell_type": "code",
   "execution_count": 0,
   "metadata": {},
   "outputs": [],
   "source": [
    "## == CHECKPOINT TEST CASES ==\n",
    "# - This read-only cell contains test cases for your previous cell.\n",
    "# - If this cell runs without any errors in your output, you PASSED all test cases!\n",
    "# - If this cell results in any errors, check your previous cell, make changes, and RE-RUN your code and then this cell.\n",
    "assert( 'df' in vars() ), \"You do not have a DataFrame called `df`.\"\n",
    "assert( 'treatment' in vars() ), \"You do not have a DataFrame called `treatment`.\"\n",
    "assert( 'control' in vars() ), \"You do not have a DataFrame called `control`.\"\n",
    "assert( abs((len(df) / 2) - len(treatment)) <= 1 ), \"The `treatment` group size must be 50% of the `df`.\"\n",
    "assert( abs((len(df) / 2) - len(control)) <= 1 ), \"The `control` group size must be 50% of the `df`.\"\n",
    "assert( len(df[ df.index.isin(treatment.index) & df.index.isin(control.index) ]) == 0), \"The `treatment` and `control` groups have some overlap!  There must be no overlap.\"\n",
    "\n",
    "## == SUCCESS MESSAGE ==\n",
    "# You will only see this message (with the emoji showing) if you passed all test cases:\n",
    "tada = \"\\N{PARTY POPPER}\"\n",
    "print(f\"{tada} All tests passed! {tada}\")"
   ]
  },
  {
   "cell_type": "markdown",
   "execution_count": 0,
   "metadata": {},
   "outputs": [],
   "source": [
    "## Part 2.4: Finding Yourself!\n",
    "\n",
    "Use the following cells to write Python code to find yourself in either the treatment group or control group.\n",
    "- **Hint**: How do you select a subset of rows?  What conditional will identify you??\n",
    "- If you did not fill out the \"Hello Survey\" then you are not in this dataset. :(\n",
    "- If you are not in this survey, find either \"Prof. Wade\" or \"Prof. Karle\" instead.  *(Those are the names we used in the `Name` column.)*"
   ]
  },
  {
   "cell_type": "code",
   "execution_count": 0,
   "metadata": {},
   "outputs": [],
   "source": [
    "# Use this cell to find yourself in either `treatment` or `control` groups:\n",
    "# ...feel free to add extra \"Code\" cells here if needed."
   ]
  },
  {
   "cell_type": "markdown",
   "execution_count": 0,
   "metadata": {},
   "outputs": [],
   "source": [
    "## Analysis: Finding Yourself!\n",
    "\n",
    "**Q5: Which group where you in -- treatment or control?**\n"
   ]
  },
  {
   "cell_type": "markdown",
   "execution_count": 0,
   "metadata": {},
   "outputs": [],
   "source": [
    "*(✏️ Edit this cell to replace this text wth your answer. ✏️)*"
   ]
  },
  {
   "cell_type": "markdown",
   "execution_count": 0,
   "metadata": {},
   "outputs": [],
   "source": [
    "<hr style=\"color: #DD3403;\">"
   ]
  },
  {
   "cell_type": "markdown",
   "execution_count": 0,
   "metadata": {},
   "outputs": [],
   "source": [
    "# Part 3: Using Blocking to Create Treatment and Control Groups that are Balanced\n",
    "\n",
    "In your pre-experiment research, you have reason to believe that how the participants answer **your group's question** might influence the response of this experiment!  Oh no! Even though this is a large sample of participants, we want to block to be absolutely sure that the treatment and control groups are balanced with regard to your group's question!\n",
    "\n",
    "To control for this, we will using **blocking**!  Remember from lecture that blocking refers to creating subgroups for each response, selecting equal-sized treatment and control groups from each block, and then combining all the treatment groups together and all the control groups together to get the final groups. This ensures that your groups are balanced with regard to the variable you blocked on!\n",
    "\n",
    "You have already done some of this work:\n",
    "- Earlier in this notebook, you created `df1` that includes everyone who answered your group's question one way.\n",
    "- Earlier in this notebook, you created `df2` that includes everyone who answered your group's question the other way."
   ]
  },
  {
   "cell_type": "markdown",
   "execution_count": 0,
   "metadata": {},
   "outputs": [],
   "source": [
    "## Part 3.1:\n",
    "\n",
    "Create a `df1_treatment` group that contains a random selection of 50% of the rows from `df1`."
   ]
  },
  {
   "cell_type": "code",
   "execution_count": 0,
   "metadata": {},
   "outputs": [],
   "source": [
    "df1_treatment = ...\n",
    "df1_treatment"
   ]
  },
  {
   "cell_type": "markdown",
   "execution_count": 0,
   "metadata": {},
   "outputs": [],
   "source": [
    "## Part 3.2:\n",
    "\n",
    "Create a `df1_control` group that contains the other half of the rows from `df1`. *(You can refer back to Part 2 to refresh on how to do this, make sure you use `df1` and `df1_control` as your DataFrames.)*"
   ]
  },
  {
   "cell_type": "code",
   "execution_count": 0,
   "metadata": {},
   "outputs": [],
   "source": [
    "df1_control = ...\n",
    "df1_control"
   ]
  },
  {
   "cell_type": "markdown",
   "execution_count": 0,
   "metadata": {},
   "outputs": [],
   "source": [
    "### 🔬 Test Case Checkpoint 🔬"
   ]
  },
  {
   "cell_type": "code",
   "execution_count": 0,
   "metadata": {},
   "outputs": [],
   "source": [
    "## == CHECKPOINT TEST CASES ==\n",
    "# - This read-only cell contains test cases for your previous cell.\n",
    "# - If this cell runs without any errors in your output, you PASSED all test cases!\n",
    "# - If this cell results in any errors, check your previous cell, make changes, and RE-RUN your code and then this cell.\n",
    "assert( 'df1_treatment' in vars() ), \"You do not have a DataFrame called `df1_treatment`.\"\n",
    "assert( 'df1_control' in vars() ), \"You do not have a DataFrame called `df1_control`.\"\n",
    "assert( len(df[ df.index.isin(df1_treatment.index) & df.index.isin(df1_control.index) ]) == 0), \"The `df1_treatment` and `df1_control` groups have some overlap!  There must be no overlap.\"\n",
    "assert( len(df[ df.index.isin(df1_treatment.index) & df.index.isin(df2.index) ]) == 0), \"The `df1_treatment` and `df2` groups have some overlap!  There must be no overlap.\"\n",
    "assert( len(df[ df.index.isin(df1_control.index) & df.index.isin(df2.index) ]) == 0), \"The `df1_control` and `df2` groups have some overlap!  There must be no overlap.\"\n",
    "\n",
    "## == SUCCESS MESSAGE ==\n",
    "# You will only see this message (with the emoji showing) if you passed all test cases:\n",
    "tada = \"\\N{PARTY POPPER}\"\n",
    "print(f\"{tada} All tests passed! {tada}\")"
   ]
  },
  {
   "cell_type": "markdown",
   "execution_count": 0,
   "metadata": {},
   "outputs": [],
   "source": [
    "## Part 3.3:\n",
    "\n",
    "Create a `df2_treatment` group that contains a random selection of 50% of the rows from `df2`."
   ]
  },
  {
   "cell_type": "code",
   "execution_count": 0,
   "metadata": {},
   "outputs": [],
   "source": [
    "df2_treatment = ...\n",
    "df2_treatment"
   ]
  },
  {
   "cell_type": "markdown",
   "execution_count": 0,
   "metadata": {},
   "outputs": [],
   "source": [
    "## Part 3.4:\n",
    "\n",
    "Create a `df2_control` group that contains the other half of the rows from `df2`."
   ]
  },
  {
   "cell_type": "code",
   "execution_count": 0,
   "metadata": {},
   "outputs": [],
   "source": [
    "df2_control = ...\n",
    "df2_control"
   ]
  },
  {
   "cell_type": "markdown",
   "execution_count": 0,
   "metadata": {},
   "outputs": [],
   "source": [
    "### 🔬 Test Case Checkpoint 🔬"
   ]
  },
  {
   "cell_type": "code",
   "execution_count": 0,
   "metadata": {},
   "outputs": [],
   "source": [
    "## == CHECKPOINT TEST CASES ==\n",
    "# - This read-only cell contains test cases for your previous cell.\n",
    "# - If this cell runs without any errors in your output, you PASSED all test cases!\n",
    "# - If this cell results in any errors, check your previous cell, make changes, and RE-RUN your code and then this cell.\n",
    "assert( 'df2_treatment' in vars() ), \"You do not have a DataFrame called `df2_treatment`.\"\n",
    "assert( 'df2_control' in vars() ), \"You do not have a DataFrame called `df2_control`.\"\n",
    "assert( len(df[ df.index.isin(df2_treatment.index) & df.index.isin(df2_control.index) ]) == 0), \"The `df2_treatment` and `df2_control` groups have some overlap!  There must be no overlap.\"\n",
    "assert( len(df[ df.index.isin(df2_treatment.index) & df.index.isin(df1.index) ]) == 0), \"The `df2_treatment` and `df1` groups have some overlap!  There must be no overlap.\"\n",
    "assert( len(df[ df.index.isin(df2_control.index) & df.index.isin(df1.index) ]) == 0), \"The `df2_control` and `df1` groups have some overlap!  There must be no overlap.\"\n",
    "\n",
    "\n",
    "## == SUCCESS MESSAGE ==\n",
    "# You will only see this message (with the emoji showing) if you passed all test cases:\n",
    "tada = \"\\N{PARTY POPPER}\"\n",
    "print(f\"{tada} All tests passed! {tada}\")"
   ]
  },
  {
   "cell_type": "markdown",
   "execution_count": 0,
   "metadata": {},
   "outputs": [],
   "source": [
    "## Part 3.5:\n",
    "\n",
    "Finally, read the guide: **Combining DataFrames by Concatenation** (https://discovery.cs.illinois.edu/guides/Combining-DataFrames/Combining-DataFrames-by-Concatenation/) to learn how to combine `df1_treatment` and `df2_treatment` together into one group called `treatment`. \n",
    "\n",
    "FYI, you will not need to reset the index here!"
   ]
  },
  {
   "cell_type": "code",
   "execution_count": 0,
   "metadata": {},
   "outputs": [],
   "source": [
    "treatment = ...\n",
    "treatment"
   ]
  },
  {
   "cell_type": "markdown",
   "execution_count": 0,
   "metadata": {},
   "outputs": [],
   "source": [
    "## Part 3.6:\n",
    "\n",
    "Using the same technique, combine `df1_control` and `df2_control` together into one group called `control`:"
   ]
  },
  {
   "cell_type": "code",
   "execution_count": 0,
   "metadata": {},
   "outputs": [],
   "source": [
    "control = ...\n",
    "control"
   ]
  },
  {
   "cell_type": "markdown",
   "execution_count": 0,
   "metadata": {},
   "outputs": [],
   "source": [
    "### 🔬 Test Case Checkpoint 🔬"
   ]
  },
  {
   "cell_type": "code",
   "execution_count": 0,
   "metadata": {},
   "outputs": [],
   "source": [
    "## == CHECKPOINT TEST CASES ==\n",
    "# - This read-only cell contains test cases for your previous cell.\n",
    "# - If this cell runs without any errors in your output, you PASSED all test cases!\n",
    "# - If this cell results in any errors, check your previous cell, make changes, and RE-RUN your code and then this cell.\n",
    "assert( len(df[ df.index.isin(treatment.index) & df.index.isin(control.index) ]) == 0), \"The `treatment` and `control` groups have some overlap!  There must be no overlap.\"\n",
    "assert(\n",
    "  (len(treatment) + len(control) == len(df1) + len(df2)) or \n",
    "  (len(treatment) + len(control) == len(df))\n",
    "), f\"Not everyone in the dataset (or everyone who responded to the question being blocked) is included in one of the two groups -- someone is missing! :(\\nPeople in treatment group: {len(treatment)}\\nPeople in control group: {len(control)}\\nTotal in treatment+control group: {len(control) + len(treatment)}\\n== vs ==\\nTotal people in dataset: {len(df)}\\nTotal people with data for blocking: {len(df1) + len(df2)}\"\n",
    "\n",
    "## == SUCCESS MESSAGE ==\n",
    "# You will only see this message (with the emoji showing) if you passed all test cases:\n",
    "tada = \"\\N{PARTY POPPER}\"\n",
    "print(f\"{tada} All tests passed! {tada}\")"
   ]
  },
  {
   "cell_type": "markdown",
   "execution_count": 0,
   "metadata": {},
   "outputs": [],
   "source": [
    "## Analysis: Blocking"
   ]
  },
  {
   "cell_type": "markdown",
   "execution_count": 0,
   "metadata": {},
   "outputs": [],
   "source": [
    "**Q6: In your own words, explain what blocking is and why it is useful to someone who has never taken a statistics course before! You can use what you did above as an example in your explanation if you'd like. Make sure to include what blocking is and why it is useful. Write at least three complete sentences to answer this question.**"
   ]
  },
  {
   "cell_type": "markdown",
   "execution_count": 0,
   "metadata": {},
   "outputs": [],
   "source": [
    "*(✏️ Edit this cell to replace this text wth your answer. ✏️)*"
   ]
  },
  {
   "cell_type": "markdown",
   "execution_count": 0,
   "metadata": {},
   "outputs": [],
   "source": [
    "<hr style=\"color: #DD3403;\">"
   ]
  },
  {
   "cell_type": "markdown",
   "execution_count": 0,
   "metadata": {},
   "outputs": [],
   "source": [
    "# Submission\n",
    "\n",
    "You're almost done!  All you need to do is to commit your lab to GitHub:\n",
    "\n",
    "1.  ⚠️ **Make certain to save your work.** ⚠️ To do this, go to **File => Save All**\n",
    "\n",
    "2.  After you have saved, exit this notebook and follow the Canvas instructions to commit this lab to your Git repository!\n",
    "\n",
    "3. Your TA will grade your submission and provide you feedback after the lab is due. :)"
   ]
  }
 ],
 "metadata": {
  "kernelspec": {
   "display_name": "Python 3",
   "language": "python",
   "name": "python3"
  },
  "language_info": {
   "codemirror_mode": {
    "name": "ipython",
    "version": 3
   },
   "file_extension": ".py",
   "mimetype": "text/x-python",
   "name": "python",
   "nbconvert_exporter": "python",
   "pygments_lexer": "ipython3",
   "version": "3.10.5"
  },
  "vscode": {
   "interpreter": {
    "hash": "f48b0ea9e8281b29b1f9b6045fc5406bb9891af892053a27454c097f6ae51d2c"
   }
  }
 },
 "nbformat": 4,
 "nbformat_minor": 2
}
